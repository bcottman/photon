{
 "cells": [
  {
   "cell_type": "markdown",
   "metadata": {},
   "source": [
    "## todo"
   ]
  },
  {
   "cell_type": "markdown",
   "metadata": {},
   "source": [
    "- how to get at results\n",
    "- add cm\n",
    "- add xgboost to custom.json\n",
    "= add cleaning\n",
    "- add scaling\n",
    "- add PCA , t-SNE\n",
    "- add cluster statixtics\n",
    "- add cluster ploting\n",
    "- add other datasets\n"
   ]
  },
  {
   "cell_type": "code",
   "execution_count": 1,
   "metadata": {
    "ExecuteTime": {
     "end_time": "2020-05-15T00:10:59.744479Z",
     "start_time": "2020-05-15T00:10:52.441420Z"
    }
   },
   "outputs": [
    {
     "name": "stdout",
     "output_type": "stream",
     "text": [
      "Number of packages:196\n"
     ]
    },
    {
     "data": {
      "text/plain": [
       "['# packages in environment at /opt/conda:',\n",
       " '#',\n",
       " '# Name                    Version                   Build  Channel',\n",
       " '_libgcc_mutex             0.1                 conda_forge    conda-forge',\n",
       " '_openmp_mutex             4.5                       0_gnu    conda-forge',\n",
       " 'alembic                   1.4.2              pyh9f0ad1d_0    conda-forge',\n",
       " 'astroid                   2.4.1                    pypi_0    pypi',\n",
       " 'astunparse                1.6.3                    pypi_0    pypi',\n",
       " 'async_generator           1.10                       py_0    conda-forge',\n",
       " 'attrs                     19.3.0                     py_0    conda-forge',\n",
       " 'backcall                  0.1.0                      py_0    conda-forge',\n",
       " 'bleach                    3.1.4              pyh9f0ad1d_0    conda-forge',\n",
       " 'blinker                   1.4                        py_1    conda-forge',\n",
       " 'brotlipy                  0.7.0           py37h8f50634_1000    conda-forge',\n",
       " 'ca-certificates           2020.4.5.1           hecc5488_0    conda-forge',\n",
       " 'certifi                   2020.4.5.1               pypi_0    pypi',\n",
       " 'certipy                   0.1.3                      py_0    conda-forge',\n",
       " 'cffi                      1.14.0           py37hd463f26_0    conda-forge',\n",
       " 'chardet                   3.0.4           py37hc8dfbb8_1006    conda-forge',\n",
       " 'click                     7.1.2                    pypi_0    pypi',\n",
       " 'cloudpickle               1.4.1                    pypi_0    pypi',\n",
       " 'colour                    0.1.5                    pypi_0    pypi',\n",
       " 'conda                     4.8.2                    py37_0    conda-forge',\n",
       " 'conda-package-handling    1.6.0            py37h8f50634_2    conda-forge',\n",
       " 'configurable-http-proxy   4.2.1           node13_he01fd0c_0    conda-forge',\n",
       " 'cryptography              2.9.2            py37hb09aad4_0    conda-forge',\n",
       " 'cycler                    0.10.0                   pypi_0    pypi',\n",
       " 'dask                      2.16.0                   pypi_0    pypi',\n",
       " 'decorator                 4.4.2                      py_0    conda-forge',\n",
       " 'defusedxml                0.6.0                      py_0    conda-forge',\n",
       " 'distributed               2.16.0                   pypi_0    pypi',\n",
       " 'entrypoints               0.3             py37hc8dfbb8_1001    conda-forge',\n",
       " 'flask                     1.1.2                    pypi_0    pypi',\n",
       " 'geojson                   2.5.0                    pypi_0    pypi',\n",
       " 'h5py                      2.10.0                   pypi_0    pypi',\n",
       " 'heapdict                  1.0.1                    pypi_0    pypi',\n",
       " 'icu                       64.2                 he1b5a44_1    conda-forge',\n",
       " 'idna                      2.9                        py_1    conda-forge',\n",
       " 'imagecodecs               2020.2.18                pypi_0    pypi',\n",
       " 'imageio                   2.8.0                    pypi_0    pypi',\n",
       " 'imbalanced-learn          0.6.2                    pypi_0    pypi',\n",
       " 'imblearn                  0.0                      pypi_0    pypi',\n",
       " 'importlib-metadata        1.6.0            py37hc8dfbb8_0    conda-forge',\n",
       " 'importlib_metadata        1.6.0                         0    conda-forge',\n",
       " 'ipykernel                 5.2.1            py37h43977f1_0    conda-forge',\n",
       " 'ipython                   7.14.0           py37hc8dfbb8_0    conda-forge',\n",
       " 'ipython_genutils          0.2.0                      py_1    conda-forge',\n",
       " 'isort                     4.3.21                   pypi_0    pypi',\n",
       " 'itsdangerous              1.1.0                    pypi_0    pypi',\n",
       " 'jedi                      0.17.0           py37hc8dfbb8_0    conda-forge',\n",
       " 'jinja2                    2.11.2             pyh9f0ad1d_0    conda-forge',\n",
       " 'joblib                    0.14.1                   pypi_0    pypi',\n",
       " 'json5                     0.9.0                      py_0    conda-forge',\n",
       " 'jsonschema                3.2.0            py37hc8dfbb8_1    conda-forge',\n",
       " 'jupyter-contrib-core      0.3.3                    pypi_0    pypi',\n",
       " 'jupyter-contrib-nbextensions 0.5.1                    pypi_0    pypi',\n",
       " 'jupyter-highlight-selected-word 0.2.0                    pypi_0    pypi',\n",
       " 'jupyter-latex-envs        1.4.6                    pypi_0    pypi',\n",
       " 'jupyter-nbextensions-configurator 0.4.1                    pypi_0    pypi',\n",
       " 'jupyter_client            6.1.3                      py_0    conda-forge',\n",
       " 'jupyter_core              4.6.3            py37hc8dfbb8_1    conda-forge',\n",
       " 'jupyter_telemetry         0.0.5                      py_0    conda-forge',\n",
       " 'jupyterhub                1.1.0                    py37_2    conda-forge',\n",
       " 'jupyterhub-base           1.1.0                    py37_2    conda-forge',\n",
       " 'jupyterlab                2.1.1                      py_0    conda-forge',\n",
       " 'jupyterlab_server         1.1.1                      py_0    conda-forge',\n",
       " 'jupyterthemes             0.20.0                   pypi_0    pypi',\n",
       " 'keras                     2.3.1                    pypi_0    pypi',\n",
       " 'keras-applications        1.0.8                    pypi_0    pypi',\n",
       " 'keras-preprocessing       1.1.2                    pypi_0    pypi',\n",
       " 'kiwisolver                1.2.0                    pypi_0    pypi',\n",
       " 'krb5                      1.17.1               h2fd8d38_0    conda-forge',\n",
       " 'lazy-object-proxy         1.4.3                    pypi_0    pypi',\n",
       " 'ld_impl_linux-64          2.34                 h53a641e_0    conda-forge',\n",
       " 'lesscpy                   0.14.0                   pypi_0    pypi',\n",
       " 'libcurl                   7.69.1               hf7181ac_0    conda-forge',\n",
       " 'libedit                   3.1.20170329      hf8c457e_1001    conda-forge',\n",
       " 'libffi                    3.2.1             he1b5a44_1007    conda-forge',\n",
       " 'libgcc-ng                 9.2.0                h24d8f2e_2    conda-forge',\n",
       " 'libgomp                   9.2.0                h24d8f2e_2    conda-forge',\n",
       " 'libsodium                 1.0.17               h516909a_0    conda-forge',\n",
       " 'libssh2                   1.8.2                h22169c7_2    conda-forge',\n",
       " 'libstdcxx-ng              9.2.0                hdf63c60_2    conda-forge',\n",
       " 'libuv                     1.34.0               h516909a_0    conda-forge',\n",
       " 'lxml                      4.5.0                    pypi_0    pypi',\n",
       " 'mako                      1.1.0                      py_0    conda-forge',\n",
       " 'markdown                  3.2.2                    pypi_0    pypi',\n",
       " 'markupsafe                1.1.1            py37h8f50634_1    conda-forge',\n",
       " 'matplotlib                3.2.1                    pypi_0    pypi',\n",
       " 'mccabe                    0.6.1                    pypi_0    pypi',\n",
       " 'mistune                   0.8.4           py37h8f50634_1001    conda-forge',\n",
       " 'more-itertools            8.2.0                    pypi_0    pypi',\n",
       " 'mpld3                     0.3                      pypi_0    pypi',\n",
       " 'msgpack                   1.0.0                    pypi_0    pypi',\n",
       " 'nbconvert                 5.6.1            py37hc8dfbb8_1    conda-forge',\n",
       " 'nbformat                  5.0.6                      py_0    conda-forge',\n",
       " 'ncurses                   6.1               hf484d3e_1002    conda-forge',\n",
       " 'networkx                  2.4                      pypi_0    pypi',\n",
       " 'nibabel                   3.1.0                    pypi_0    pypi',\n",
       " 'nilearn                   0.5.0                    pypi_0    pypi',\n",
       " 'nodejs                    13.13.0              hf5d1a2b_0    conda-forge',\n",
       " 'notebook                  6.0.3                    py37_0    conda-forge',\n",
       " 'numpy                     1.18.4                   pypi_0    pypi',\n",
       " 'oauthlib                  3.0.1                      py_0    conda-forge',\n",
       " 'openssl                   1.1.1g               h516909a_0    conda-forge',\n",
       " 'packaging                 20.3                     pypi_0    pypi',\n",
       " 'pamela                    1.0.0                      py_0    conda-forge',\n",
       " 'pandas                    1.0.3                    pypi_0    pypi',\n",
       " 'pandoc                    2.9.2.1                       0    conda-forge',\n",
       " 'pandocfilters             1.4.2                      py_1    conda-forge',\n",
       " 'parso                     0.7.0              pyh9f0ad1d_0    conda-forge',\n",
       " 'patsy                     0.5.1                    pypi_0    pypi',\n",
       " 'pexpect                   4.8.0            py37hc8dfbb8_1    conda-forge',\n",
       " 'pickleshare               0.7.5           py37hc8dfbb8_1001    conda-forge',\n",
       " 'pillow                    7.1.2                    pypi_0    pypi',\n",
       " 'pip                       20.1               pyh9f0ad1d_0    conda-forge',\n",
       " 'pixiedust                 1.1.18                   pypi_0    pypi',\n",
       " 'plotly                    4.7.1                    pypi_0    pypi',\n",
       " 'pluggy                    0.13.1                   pypi_0    pypi',\n",
       " 'ply                       3.11                     pypi_0    pypi',\n",
       " 'prettytable               0.7.2                    pypi_0    pypi',\n",
       " 'progressbar2              3.51.3                   pypi_0    pypi',\n",
       " 'prometheus_client         0.7.1                      py_0    conda-forge',\n",
       " 'prompt-toolkit            3.0.5                      py_0    conda-forge',\n",
       " 'psutil                    5.7.0                    pypi_0    pypi',\n",
       " 'ptyprocess                0.6.0                   py_1001    conda-forge',\n",
       " 'py                        1.8.1                    pypi_0    pypi',\n",
       " 'pyaml                     20.4.0                   pypi_0    pypi',\n",
       " 'pycosat                   0.6.3           py37h8f50634_1004    conda-forge',\n",
       " 'pycparser                 2.20                       py_0    conda-forge',\n",
       " 'pycurl                    7.43.0.5         py37h16ce93b_0    conda-forge',\n",
       " 'pygments                  2.6.1                      py_0    conda-forge',\n",
       " 'pyjwt                     1.7.1                      py_0    conda-forge',\n",
       " 'pylint                    2.5.2                    pypi_0    pypi',\n",
       " 'pymodm                    0.4.1                    pypi_0    pypi',\n",
       " 'pymongo                   3.10.1                   pypi_0    pypi',\n",
       " 'pyopenssl                 19.1.0                     py_1    conda-forge',\n",
       " 'pyparsing                 2.4.7                    pypi_0    pypi',\n",
       " 'pyrsistent                0.16.0           py37h8f50634_0    conda-forge',\n",
       " 'pysocks                   1.7.1            py37hc8dfbb8_1    conda-forge',\n",
       " 'pytest                    5.4.2                    pypi_0    pypi',\n",
       " 'python                    3.7.6           h8356626_5_cpython    conda-forge',\n",
       " 'python-dateutil           2.8.1                      py_0    conda-forge',\n",
       " 'python-editor             1.0.4                      py_0    conda-forge',\n",
       " 'python-json-logger        0.1.11                     py_0    conda-forge',\n",
       " 'python-utils              2.4.0                    pypi_0    pypi',\n",
       " 'python_abi                3.7                     1_cp37m    conda-forge',\n",
       " 'pytz                      2020.1                   pypi_0    pypi',\n",
       " 'pywavelets                1.1.1                    pypi_0    pypi',\n",
       " 'pyyaml                    5.3.1                    pypi_0    pypi',\n",
       " 'pyzmq                     19.0.0           py37hac76be4_1    conda-forge',\n",
       " 'readline                  8.0                  hf8c457e_0    conda-forge',\n",
       " 'requests                  2.23.0             pyh8c360ce_2    conda-forge',\n",
       " 'retrying                  1.3.3                    pypi_0    pypi',\n",
       " 'ruamel.yaml               0.16.6           py37h8f50634_1    conda-forge',\n",
       " 'ruamel.yaml.clib          0.2.0            py37h8f50634_1    conda-forge',\n",
       " 'ruamel_yaml               0.15.80         py37h8f50634_1001    conda-forge',\n",
       " 'scikit-image              0.17.2                   pypi_0    pypi',\n",
       " 'scikit-learn              0.22                     pypi_0    pypi',\n",
       " 'scikit-learn-extra        0.1.0b2                  pypi_0    pypi',\n",
       " 'scikit-optimize           0.7.4                    pypi_0    pypi',\n",
       " 'scipy                     1.2.0                    pypi_0    pypi',\n",
       " 'seaborn                   0.10.1                   pypi_0    pypi',\n",
       " 'send2trash                1.5.0                      py_0    conda-forge',\n",
       " 'setuptools                46.3.0                   pypi_0    pypi',\n",
       " 'six                       1.14.0                     py_1    conda-forge',\n",
       " 'sortedcontainers          2.1.0                    pypi_0    pypi',\n",
       " 'sqlalchemy                1.3.16           py37h8f50634_0    conda-forge',\n",
       " 'sqlite                    3.30.1               hcee41ef_0    conda-forge',\n",
       " 'statsmodels               0.11.1                   pypi_0    pypi',\n",
       " 'tblib                     1.6.0                    pypi_0    pypi',\n",
       " 'terminado                 0.8.3            py37hc8dfbb8_1    conda-forge',\n",
       " 'testpath                  0.4.4                      py_0    conda-forge',\n",
       " 'tifffile                  2020.5.11                pypi_0    pypi',\n",
       " 'tini                      0.18.0            h14c3975_1001    conda-forge',\n",
       " 'tk                        8.6.10               hed695b0_0    conda-forge',\n",
       " 'toml                      0.10.1                   pypi_0    pypi',\n",
       " 'toolz                     0.10.0                   pypi_0    pypi',\n",
       " 'tornado                   6.0.4            py37h8f50634_1    conda-forge',\n",
       " 'tqdm                      4.45.0             pyh9f0ad1d_1    conda-forge',\n",
       " 'traitlets                 4.3.3            py37hc8dfbb8_1    conda-forge',\n",
       " 'typed-ast                 1.4.1                    pypi_0    pypi',\n",
       " 'urllib3                   1.25.9                     py_0    conda-forge',\n",
       " 'utils                     1.0.1                    pypi_0    pypi',\n",
       " 'wcwidth                   0.1.9              pyh9f0ad1d_0    conda-forge',\n",
       " 'webencodings              0.5.1                      py_1    conda-forge',\n",
       " 'werkzeug                  1.0.1                    pypi_0    pypi',\n",
       " 'wheel                     0.34.2                   pypi_0    pypi',\n",
       " 'wrapt                     1.12.1                   pypi_0    pypi',\n",
       " 'xlrd                      1.2.0                    pypi_0    pypi',\n",
       " 'xz                        5.2.5                h516909a_0    conda-forge',\n",
       " 'yaml                      0.2.4                h516909a_0    conda-forge',\n",
       " 'zeromq                    4.3.2                he1b5a44_2    conda-forge',\n",
       " 'zict                      2.0.0                    pypi_0    pypi',\n",
       " 'zipp                      3.1.0                      py_0    conda-forge',\n",
       " 'zlib                      1.2.11            h516909a_1006    conda-forge']"
      ]
     },
     "execution_count": 1,
     "metadata": {},
     "output_type": "execute_result"
    }
   ],
   "source": [
    "%load_ext autoreload\n",
    "%autoreload 2\n",
    "packages = !conda list\n",
    "print('Number of packages:{}'.format(len(packages)))\n",
    "packages"
   ]
  },
  {
   "cell_type": "code",
   "execution_count": 2,
   "metadata": {
    "ExecuteTime": {
     "end_time": "2020-05-15T00:11:00.336761Z",
     "start_time": "2020-05-15T00:10:59.748198Z"
    }
   },
   "outputs": [],
   "source": [
    "from sklearn.utils.fixes import MaskedArray"
   ]
  },
  {
   "cell_type": "code",
   "execution_count": 3,
   "metadata": {
    "ExecuteTime": {
     "end_time": "2020-05-15T00:11:01.367162Z",
     "start_time": "2020-05-15T00:11:00.340214Z"
    }
   },
   "outputs": [
    {
     "name": "stdout",
     "output_type": "stream",
     "text": [
      "Known nbextensions:\r\n",
      "  config dir: /home/jovyan/.jupyter/nbconfig\r\n",
      "    notebook section\r\n",
      "      nbextensions_configurator/config_menu/main \u001b[32m enabled \u001b[0m\r\n",
      "      - Validating: problems found:\r\n",
      "        - require? \u001b[31m X\u001b[0m nbextensions_configurator/config_menu/main\r\n",
      "      contrib_nbextensions_help_item/main \u001b[32m enabled \u001b[0m\r\n",
      "      - Validating: \u001b[32mOK\u001b[0m\r\n",
      "      jupyter-js-widgets/extension \u001b[32m enabled \u001b[0m\r\n",
      "      - Validating: problems found:\r\n",
      "        - require? \u001b[31m X\u001b[0m jupyter-js-widgets/extension\r\n",
      "      jupyter-notebook-gist/notebook-extension \u001b[32m enabled \u001b[0m\r\n",
      "      - Validating: problems found:\r\n",
      "        - require? \u001b[31m X\u001b[0m jupyter-notebook-gist/notebook-extension\r\n",
      "      autosavetime/main \u001b[32m enabled \u001b[0m\r\n",
      "      - Validating: \u001b[32mOK\u001b[0m\r\n",
      "      codefolding/main \u001b[32m enabled \u001b[0m\r\n",
      "      - Validating: \u001b[32mOK\u001b[0m\r\n",
      "      code_font_size/code_font_size \u001b[32m enabled \u001b[0m\r\n",
      "      - Validating: \u001b[32mOK\u001b[0m\r\n",
      "      code_prettify/code_prettify \u001b[32m enabled \u001b[0m\r\n",
      "      - Validating: \u001b[32mOK\u001b[0m\r\n",
      "      collapsible_headings/main \u001b[32m enabled \u001b[0m\r\n",
      "      - Validating: \u001b[32mOK\u001b[0m\r\n",
      "      comment-uncomment/main \u001b[32m enabled \u001b[0m\r\n",
      "      - Validating: \u001b[32mOK\u001b[0m\r\n",
      "      equation-numbering/main \u001b[32m enabled \u001b[0m\r\n",
      "      - Validating: \u001b[32mOK\u001b[0m\r\n",
      "      execute_time/ExecuteTime \u001b[32m enabled \u001b[0m\r\n",
      "      - Validating: \u001b[32mOK\u001b[0m\r\n",
      "      gist_it/main \u001b[32m enabled \u001b[0m\r\n",
      "      - Validating: \u001b[32mOK\u001b[0m\r\n",
      "      hide_input/main \u001b[32m enabled \u001b[0m\r\n",
      "      - Validating: \u001b[32mOK\u001b[0m\r\n",
      "      spellchecker/main \u001b[32m enabled \u001b[0m\r\n",
      "      - Validating: \u001b[32mOK\u001b[0m\r\n",
      "      toc2/main \u001b[32m enabled \u001b[0m\r\n",
      "      - Validating: \u001b[32mOK\u001b[0m\r\n",
      "      toggle_all_line_numbers/main \u001b[32m enabled \u001b[0m\r\n",
      "      - Validating: \u001b[32mOK\u001b[0m\r\n",
      "    tree section\r\n",
      "      nbextensions_configurator/tree_tab/main \u001b[32m enabled \u001b[0m\r\n",
      "      - Validating: problems found:\r\n",
      "        - require? \u001b[31m X\u001b[0m nbextensions_configurator/tree_tab/main\r\n",
      "  config dir: /opt/conda/etc/jupyter/nbconfig\r\n",
      "    notebook section\r\n",
      "      plotlywidget/extension \u001b[32m enabled \u001b[0m\r\n",
      "      - Validating: \u001b[32mOK\u001b[0m\r\n"
     ]
    }
   ],
   "source": [
    "!jupyter nbextension list"
   ]
  },
  {
   "cell_type": "markdown",
   "metadata": {},
   "source": [
    "## Output registry"
   ]
  },
  {
   "cell_type": "code",
   "execution_count": 4,
   "metadata": {
    "ExecuteTime": {
     "end_time": "2020-05-15T00:11:02.175742Z",
     "start_time": "2020-05-15T00:11:01.370276Z"
    }
   },
   "outputs": [
    {
     "name": "stdout",
     "output_type": "stream",
     "text": [
      "['/docker/photon/photonai', '/opt/conda/lib/python37.zip', '/opt/conda/lib/python3.7', '/opt/conda/lib/python3.7/lib-dynload', '', '/opt/conda/lib/python3.7/site-packages', '/opt/conda/lib/python3.7/site-packages/IPython/extensions', '/home/jovyan/.ipython', '/docker/photon']\n",
      "/docker/photon\n"
     ]
    }
   ],
   "source": [
    "from __future__ import print_function\n",
    "import sys, os\n",
    "\n",
    "old__file__ = !pwd\n",
    "__file__ = !cd ../../photon ;pwd\n",
    "#__file__ = !pwd\n",
    "__file__ = __file__[0]\n",
    "__file__\n",
    "sys.path.append(__file__)\n",
    "print(sys.path)\n",
    "os.chdir(__file__)\n",
    "!pwd"
   ]
  },
  {
   "cell_type": "code",
   "execution_count": 5,
   "metadata": {
    "ExecuteTime": {
     "end_time": "2020-05-15T00:11:07.227507Z",
     "start_time": "2020-05-15T00:11:02.178883Z"
    }
   },
   "outputs": [
    {
     "name": "stdout",
     "output_type": "stream",
     "text": [
      "/docker/photon\r\n"
     ]
    }
   ],
   "source": [
    "!pwd\n",
    "%matplotlib inline\n",
    "import matplotlib.pyplot as plt\n",
    "import seaborn as sns; sns.set()  # for plot styling\n",
    "import numpy as np\n",
    "\n",
    "\n",
    "\n",
    "from photonai.base import Hyperpipe, PipelineElement, Preprocessing, OutputSettings\n",
    "from photonai.optimization import FloatRange, Categorical, IntegerRange\n",
    "from photonai.base.photon_elements import PhotonRegistry\n",
    "#from photonai.base.registry.registry import PhotonRegistry"
   ]
  },
  {
   "cell_type": "code",
   "execution_count": 6,
   "metadata": {
    "ExecuteTime": {
     "end_time": "2020-05-15T00:11:07.323431Z",
     "start_time": "2020-05-15T00:11:07.230762Z"
    }
   },
   "outputs": [],
   "source": [
    "#import pixiedust\n"
   ]
  },
  {
   "cell_type": "code",
   "execution_count": 7,
   "metadata": {
    "ExecuteTime": {
     "end_time": "2020-05-15T00:11:07.841643Z",
     "start_time": "2020-05-15T00:11:07.330386Z"
    }
   },
   "outputs": [
    {
     "data": {
      "image/png": "[encoded data removed]",
      "text/plain": [
       "<Figure size 432x288 with 1 Axes>"
      ]
     },
     "metadata": {},
     "output_type": "display_data"
    }
   ],
   "source": [
    "from sklearn.datasets import load_breast_cancer\n",
    "\n",
    "# WE USE THE BREAST CANCER SET FROM SKLEARN\n",
    "X, y = load_breast_cancer(True)\n",
    "plt.scatter(X[:, 0], X[:, 1], s=50);"
   ]
  },
  {
   "cell_type": "code",
   "execution_count": 8,
   "metadata": {
    "ExecuteTime": {
     "end_time": "2020-05-15T00:11:08.368534Z",
     "start_time": "2020-05-15T00:11:07.845059Z"
    }
   },
   "outputs": [
    {
     "data": {
      "image/png": "[encoded data removed]",
      "text/plain": [
       "<Figure size 432x288 with 1 Axes>"
      ]
     },
     "metadata": {},
     "output_type": "display_data"
    }
   ],
   "source": [
    "from sklearn.datasets import load_iris\n",
    "X, y = load_iris(True)\n",
    "plt.scatter(X[:, 0], X[:, 1], s=50);"
   ]
  },
  {
   "cell_type": "code",
   "execution_count": 9,
   "metadata": {
    "ExecuteTime": {
     "end_time": "2020-05-15T00:11:08.881841Z",
     "start_time": "2020-05-15T00:11:08.371295Z"
    }
   },
   "outputs": [
    {
     "data": {
      "image/png": "[encoded data removed]",
      "text/plain": [
       "<Figure size 432x288 with 1 Axes>"
      ]
     },
     "metadata": {},
     "output_type": "display_data"
    }
   ],
   "source": [
    "from sklearn.datasets import make_blobs\n",
    "X, y = make_blobs(n_samples=300, centers=4,\n",
    "                       cluster_std=0.60, random_state=0)\n",
    "plt.scatter(X[:, 0], X[:, 1], s=50);"
   ]
  },
  {
   "cell_type": "code",
   "execution_count": 10,
   "metadata": {
    "ExecuteTime": {
     "end_time": "2020-05-15T00:11:08.972933Z",
     "start_time": "2020-05-15T00:11:08.884603Z"
    }
   },
   "outputs": [
    {
     "data": {
      "text/plain": [
       "'/docker/custom_elements'"
      ]
     },
     "execution_count": 10,
     "metadata": {},
     "output_type": "execute_result"
    }
   ],
   "source": [
    "__file__ = \"exp1.log\"\n",
    "base_folder = os.path.dirname(os.path.abspath(''))\n",
    "custom_elements_folder = os.path.join(base_folder, 'custom_elements')\n",
    "custom_elements_folder"
   ]
  },
  {
   "cell_type": "code",
   "execution_count": 11,
   "metadata": {
    "ExecuteTime": {
     "end_time": "2020-05-15T00:11:09.079561Z",
     "start_time": "2020-05-15T00:11:08.976275Z"
    }
   },
   "outputs": [
    {
     "data": {
      "text/plain": [
       "(['PhotonCore', 'PhotonCluster', 'PhotonNeuro', 'CustomElements'],\n",
       " ['PhotonCore', 'PhotonCluster', 'PhotonNeuro', 'CustomElements'])"
      ]
     },
     "execution_count": 11,
     "metadata": {},
     "output_type": "execute_result"
    }
   ],
   "source": [
    "registry = PhotonRegistry(custom_elements_folder=custom_elements_folder)\n",
    "registry.activate()\n",
    "registry.PHOTON_REGISTRIES,PhotonRegistry.PHOTON_REGISTRIES"
   ]
  },
  {
   "cell_type": "code",
   "execution_count": 12,
   "metadata": {
    "ExecuteTime": {
     "end_time": "2020-05-15T00:11:09.180909Z",
     "start_time": "2020-05-15T00:11:09.082551Z"
    }
   },
   "outputs": [
    {
     "data": {
      "text/plain": [
       "['EMD_OUT_OF_BOUNDS',\n",
       " 'EM_PKG_ID',\n",
       " 'EM_SK_TYPE_ID',\n",
       " 'PHOTON_REGISTRIES',\n",
       " '__annotations__',\n",
       " '__class__',\n",
       " '__dataclass_fields__',\n",
       " '__dataclass_params__',\n",
       " '__delattr__',\n",
       " '__dict__',\n",
       " '__dir__',\n",
       " '__doc__',\n",
       " '__eq__',\n",
       " '__format__',\n",
       " '__ge__',\n",
       " '__getattribute__',\n",
       " '__gt__',\n",
       " '__hash__',\n",
       " '__init__',\n",
       " '__init_subclass__',\n",
       " '__le__',\n",
       " '__lt__',\n",
       " '__module__',\n",
       " '__ne__',\n",
       " '__new__',\n",
       " '__post_init__',\n",
       " '__reduce__',\n",
       " '__reduce_ex__',\n",
       " '__repr__',\n",
       " '__setattr__',\n",
       " '__sizeof__',\n",
       " '__str__',\n",
       " '__subclasshook__',\n",
       " '__weakref__',\n",
       " '_check_custom_folder',\n",
       " '_check_duplicate',\n",
       " '_get_package_info',\n",
       " '_load_custom_folder',\n",
       " '_load_json',\n",
       " '_run_tests',\n",
       " '_write2json',\n",
       " 'activate',\n",
       " 'base_PHOTON_REGISTRIES',\n",
       " 'custom_elements',\n",
       " 'custom_elements_file',\n",
       " 'custom_elements_folder',\n",
       " 'delete',\n",
       " 'elements',\n",
       " 'get_element_metadata',\n",
       " 'get_package_info',\n",
       " 'info',\n",
       " 'list_available_elements',\n",
       " 'load_json',\n",
       " 'register',\n",
       " 'reset']"
      ]
     },
     "execution_count": 12,
     "metadata": {},
     "output_type": "execute_result"
    }
   ],
   "source": [
    "dir(PhotonRegistry)"
   ]
  },
  {
   "cell_type": "code",
   "execution_count": 13,
   "metadata": {
    "ExecuteTime": {
     "end_time": "2020-05-15T00:11:09.331608Z",
     "start_time": "2020-05-15T00:11:09.184021Z"
    }
   },
   "outputs": [
    {
     "name": "stdout",
     "output_type": "stream",
     "text": [
      "\n",
      "PhotonCore\n",
      "ARDRegression                       sklearn.linear_model.ARDRegression                                          Estimator\n",
      "AdaBoostClassifier                  sklearn.ensemble.AdaBoostClassifier                                         Estimator\n",
      "AdaBoostRegressor                   sklearn.ensemble.AdaBoostRegressor                                          Estimator\n",
      "BaggingClassifier                   sklearn.ensemble.BaggingClassifier                                          Estimator\n",
      "BaggingRegressor                    sklearn.ensemble.BaggingRegressor                                           Estimator\n",
      "BayesianGaussianMixture             sklearn.mixture.BayesianGaussianMixture                                     Estimator\n",
      "BayesianRidge                       sklearn.linear_model.BayesianRidge                                          Estimator\n",
      "BernoulliNB                         sklearn.naive_bayes.BernoulliNB                                             Estimator\n",
      "BernoulliRBM                        sklearn.neural_network.BernoulliRBM                                         Estimator\n",
      "Binarizer                           sklearn.preprocessing.Binarizer                                             Transformer\n",
      "CCA                                 sklearn.cross_decomposition.CCA                                             Transformer\n",
      "ConfounderRemoval                   photonai.modelwrapper.ConfounderRemoval.ConfounderRemoval                   Transformer\n",
      "DecisionTreeClassifier              sklearn.tree.DecisionTreeClassifier                                         Estimator\n",
      "DecisionTreeRegressor               sklearn.tree.DecisionTreeRegressor                                          Estimator\n",
      "DictionaryLearning                  sklearn.decomposition.DictionaryLearning                                    Transformer\n",
      "DummyClassifier                     sklearn.dummy.DummyClassifier                                               Estimator\n",
      "DummyRegressor                      sklearn.dummy.DummyRegressor                                                Estimator\n",
      "ElasticNet                          sklearn.linear_model.ElasticNet                                             Estimator\n",
      "ExtraDecisionTreeClassifier         sklearn.tree.ExtraDecisionTreeClassifier                                    Estimator\n",
      "ExtraDecisionTreeRegressor          sklearn.tree.ExtraDecisionTreeRegressor                                     Estimator\n",
      "ExtraTreesClassifier                sklearn.ensemble.ExtraTreesClassifier                                       Estimator\n",
      "ExtraTreesRegressor                 sklearn.ensemble.ExtraTreesRegressor                                        Estimator\n",
      "FClassifSelectPercentile            photonai.modelwrapper.FeatureSelection.FClassifSelectPercentile             Transformer\n",
      "FRegressionFilterPValue             photonai.modelwrapper.FeatureSelection.FRegressionFilterPValue              Transformer\n",
      "FRegressionSelectPercentile         photonai.modelwrapper.FeatureSelection.FRegressionSelectPercentile          Transformer\n",
      "FactorAnalysis                      sklearn.decomposition.FactorAnalysis                                        Transformer\n",
      "FastICA                             sklearn.decomposition.FastICA                                               Transformer\n",
      "FeatureEncoder                      photonai.modelwrapper.OrdinalEncoder.FeatureEncoder                         Transformer\n",
      "FunctionTransformer                 sklearn.preprocessing.FunctionTransformer                                   Transformer\n",
      "GaussianMixture                     sklearn.mixture.GaussianMixture                                             Estimator\n",
      "GaussianNB                          sklearn.naive_bayes.GaussianNB                                              Estimator\n",
      "GaussianProcessClassifier           sklearn.gaussian_process.GaussianProcessClassifier                          Estimator\n",
      "GaussianProcessRegressor            sklearn.gaussian_process.GaussianProcessRegressor                           Estimator\n",
      "GenericUnivariateSelect             sklearn.feature_selection.GenericUnivariateSelect                           Transformer\n",
      "GradientBoostingClassifier          sklearn.ensemble.GradientBoostingClassifier                                 Estimator\n",
      "GradientBoostingRegressor           sklearn.ensemble.GradientBoostingRegressor                                  Estimator\n",
      "HuberRegressor                      sklearn.linear_model.HuberRegressor                                         Estimator\n",
      "ImbalancedDataTransformer           photonai.modelwrapper.imbalanced_data_transformer.ImbalancedDataTransformer Transformer\n",
      "IncrementalPCA                      sklearn.decomposition.IncrementalPCA                                        Transformer\n",
      "KNeighborsClassifier                sklearn.neighbors.KNeighborsClassifier                                      Estimator\n",
      "KNeighborsRegressor                 sklearn.neighbors.KNeighborsRegressor                                       Estimator\n",
      "KerasBaseClassifier                 photonai.modelwrapper.keras_base_models.KerasBaseClassifier                 Estimator\n",
      "KerasBaseRegression                 photonai.modelwrapper.keras_base_models.KerasBaseRegression                 Estimator\n",
      "KerasDnnClassifier                  photonai.modelwrapper.keras_dnn_classifier.KerasDnnClassifier               Estimator\n",
      "KerasDnnRegressor                   photonai.modelwrapper.keras_dnn_regressor.KerasDnnRegressor                 Estimator\n",
      "KernelCenterer                      sklearn.preprocessing.KernelCenterer                                        Transformer\n",
      "KernelPCA                           sklearn.decomposition.KernelPCA                                             Transformer\n",
      "KernelRidge                         sklearn.kernel_ridge.KernelRidge                                            Estimator\n",
      "LabelEncoder                        photonai.modelwrapper.LabelEncoder.LabelEncoder                             Transformer\n",
      "Lars                                sklearn.linear_model.Lars                                                   Estimator\n",
      "Lasso                               sklearn.linear_model.Lasso                                                  Estimator\n",
      "LassoFeatureSelection               photonai.modelwrapper.FeatureSelection.LassoFeatureSelection                Transformer\n",
      "LassoLars                           sklearn.linear_model.LassoLars                                              Estimator\n",
      "LatentDirichletAllocation           sklearn.decomposition.LatentDirichletAllocation                             Transformer\n",
      "LinearRegression                    sklearn.linear_model.LinearRegression                                       Estimator\n",
      "LinearSVC                           sklearn.svm.LinearSVC                                                       Estimator\n",
      "LinearSVR                           sklearn.svm.LinearSVR                                                       Estimator\n",
      "LogisticRegression                  sklearn.linear_model.LogisticRegression                                     Estimator\n",
      "MLPClassifier                       sklearn.neural_network.MLPClassifier                                        Estimator\n",
      "MLPRegressor                        sklearn.neural_network.MLPRegressor                                         Estimator\n",
      "MaxAbsScaler                        sklearn.preprocessing.MaxAbsScaler                                          Transformer\n",
      "MinMaxScaler                        sklearn.preprocessing.MinMaxScaler                                          Transformer\n",
      "MiniBatchDictionaryLearning         sklearn.decomposition.MiniBatchDictionaryLearning                           Transformer\n",
      "MiniBatchSparsePCA                  sklearn.decomposition.MiniBatchSparsePCA                                    Transformer\n",
      "MultinomialNB                       sklearn.naive_bayes.MultinomialNB                                           Estimator\n",
      "NMF                                 sklearn.decompositcion.NMF                                                  Transformer\n",
      "NearestCentroid                     sklearn.neighbors.NearestCentroid                                           Estimator\n",
      "Normalizer                          sklearn.preprocessing.Normalizer                                            Transformer\n",
      "NuSVC                               sklearn.svm.NuSVC                                                           Estimator\n",
      "NuSVR                               sklearn.svm.NuSVR                                                           Estimator\n",
      "OneClassSVM                         sklearn.svm.OneClassSVM                                                     Estimator\n",
      "PCA                                 sklearn.decomposition.PCA                                                   Transformer\n",
      "PLSCanonical                        sklearn.cross_decomposition.PLSCanonical                                    Transformer\n",
      "PLSRegression                       sklearn.cross_decomposition.PLSRegression                                   Transformer\n",
      "PLSSVD                              sklearn.cross_decomposition.PLSSVD                                          Transformer\n",
      "PassiveAggressiveClassifier         sklearn.linear_model.PassiveAggressiveClassifier                            Estimator\n",
      "PassiveAggressiveRegressor          sklearn.linear_model.PassiveAggressiveRegressor                             Estimator\n",
      "Perceptron                          sklearn.linear_model.Perceptron                                             Estimator\n",
      "PhotonMLPClassifier                 photonai.modelwrapper.PhotonMLPClassifier.PhotonMLPClassifier               Estimator\n",
      "PhotonOneClassSVM                   photonai.modelwrapper.PhotonOneClassSVM.PhotonOneClassSVM                   Estimator\n",
      "PhotonTestXPredictor                photonai.test.processing_tests.results_tests.XPredictor                     Estimator\n",
      "PhotonVotingClassifier              photonai.modelwrapper.Voting.PhotonVotingClassifier                         Estimator\n",
      "PhotonVotingRegressor               photonai.modelwrapper.Voting.PhotonVotingRegressor                          Estimator\n",
      "PolynomialFeatures                  sklearn.preprocessing.PolynomialFeatures                                    Transformer\n",
      "PowerTransformer                    sklearn.preprocessing.PowerTransformer                                      Transformer\n",
      "QuantileTransformer                 sklearn.preprocessing.QuantileTransformer                                   Transformer\n",
      "RANSACRegressor                     sklearn.linear_model.RANSACRegressor                                        Estimator\n",
      "RFE                                 sklearn.feature_selection.RFE                                               Transformer\n",
      "RFECV                               sklearn.feature_selection.RFECV                                             Transformer\n",
      "RadiusNeighborsClassifier           sklearn.neighbors.RadiusNeighborsClassifier                                 Estimator\n",
      "RadiusNeighborsRegressor            sklearn.neighbors.RadiusNeighborsRegressor                                  Estimator\n",
      "RandomForestClassifier              sklearn.ensemble.RandomForestClassifier                                     Estimator\n",
      "RandomForestRegressor               sklearn.ensemble.RandomForestRegressor                                      Estimator\n",
      "RandomTreesEmbedding                sklearn.ensemble.RandomTreesEmbedding                                       Transformer\n",
      "RangeRestrictor                     photonai.modelwrapper.RangeRestrictor.RangeRestrictor                       Estimator\n",
      "Ridge                               sklearn.linear_model.Ridge                                                  Estimator\n",
      "RidgeClassifier                     sklearn.linear_model.RidgeClassifier                                        Estimator\n",
      "RobustScaler                        sklearn.preprocessing.RobustScaler                                          Transformer\n",
      "SGDClassifier                       sklearn.linear_model.SGDClassifier                                          Estimator\n",
      "SGDRegressor                        sklearn.linear_model.SGDRegressor                                           Estimator\n",
      "SVC                                 sklearn.svm.SVC                                                             Estimator\n",
      "SVR                                 sklearn.svm.SVR                                                             Estimator\n",
      "SamplePairingClassification         photonai.modelwrapper.SamplePairing.SamplePairingClassification             Transformer\n",
      "SamplePairingRegression             photonai.modelwrapper.SamplePairing.SamplePairingRegression                 Transformer\n",
      "SelectFdr                           sklearn.feature_selection.SelectFdr                                         Transformer\n",
      "SelectFpr                           sklearn.feature_selection.SelectFpr                                         Transformer\n",
      "SelectFromModel                     sklearn.feature_selection.SelectFromModel                                   Transformer\n",
      "SelectFwe                           sklearn.feature_selection.SelectFwe                                         Transformer\n",
      "SelectKBest                         sklearn.feature_selection.SelectKBest                                       Transformer\n",
      "SelectPercentile                    sklearn.feature_selection.SelectPercentile                                  Transformer\n",
      "SimpleImputer                       sklearn.impute.SimpleImputer                                                Transformer\n",
      "SourceSplitter                      photonai.modelwrapper.source_splitter.SourceSplitter                        Transformer\n",
      "SparseCoder                         sklearn.decomposition.SparseCoder                                           Transformer\n",
      "SparsePCA                           sklearn.decomposition.SparsePCA                                             Transformer\n",
      "StandardScaler                      sklearn.preprocessing.StandardScaler                                        Transformer\n",
      "TheilSenRegressor                   sklearn.linear_model.TheilSenRegressor                                      Estimator\n",
      "TruncatedSVD                        sklearn.decomposition.TruncatedSVD                                          Transformer\n",
      "VarianceThreshold                   sklearn.feature_selection.VarianceThreshold                                 Transformer\n",
      "dict_learning                       sklearn.decomposition.dict_learning                                         Transformer\n",
      "dict_learning_online                sklearn.decomposition.dict_learning_online                                  Transformer\n",
      "fastica                             sklearn.decomposition.fastica                                               Transformer\n",
      "sparse_encode                       sklearn.decomposition.sparse_encode                                         Transformer\n",
      "\n",
      "PhotonCluster\n",
      "KMeans                              sklearn.cluster.KMeans                                                      Estimator\n",
      "KMedoids                            sklearn_extra.cluster.KMedoids                                              Estimator\n",
      "\n",
      "PhotonNeuro\n",
      "BrainAtlas                          photonai.neuro.brain_atlas.BrainAtlas                                       Transformer\n",
      "BrainMask                           photonai.neuro.brain_atlas.BrainMask                                        Transformer\n",
      "PatchImages                         photonai.neuro.nifti_transformations.PatchImages                            Transformer\n",
      "ResampleImages                      photonai.neuro.nifti_transformations.ResampleImages                         Transformer\n",
      "SmoothImages                        photonai.neuro.nifti_transformations.SmoothImages                           Transformer\n"
     ]
    }
   ],
   "source": [
    "registry.activate()\n",
    "registry.list_available_elements()\n"
   ]
  },
  {
   "cell_type": "markdown",
   "metadata": {},
   "source": [
    "## KMedoids"
   ]
  },
  {
   "cell_type": "code",
   "execution_count": 14,
   "metadata": {
    "ExecuteTime": {
     "end_time": "2020-05-15T00:11:09.465660Z",
     "start_time": "2020-05-15T00:11:09.334800Z"
    }
   },
   "outputs": [
    {
     "name": "stdout",
     "output_type": "stream",
     "text": [
      "----------------------------------\n",
      "Name: KMedoids\n",
      "Namespace: sklearn_extra.cluster\n",
      "----------------------------------\n",
      "Possible Hyperparameters as derived from constructor:\n",
      "n_clusters                          n_clusters=8                                                               \n",
      "metric                              metric='euclidean'                                                         \n",
      "init                                init='heuristic'                                                           \n",
      "max_iter                            max_iter=300                                                               \n",
      "random_state                        random_state=None                                                          \n",
      "----------------------------------\n"
     ]
    },
    {
     "data": {
      "text/plain": [
       "('KMedoids',\n",
       " 'sklearn_extra.cluster',\n",
       " {'n_clusters': 'n_clusters',\n",
       "  'metric': 'metric',\n",
       "  'init': 'init',\n",
       "  'max_iter': 'max_iter',\n",
       "  'random_state': 'random_state'})"
      ]
     },
     "execution_count": 14,
     "metadata": {},
     "output_type": "execute_result"
    }
   ],
   "source": [
    "registry.info(\"KMedoids\")"
   ]
  },
  {
   "cell_type": "code",
   "execution_count": 18,
   "metadata": {
    "ExecuteTime": {
     "end_time": "2020-05-15T00:24:07.568788Z",
     "start_time": "2020-05-15T00:21:21.873216Z"
    }
   },
   "outputs": [
    {
     "name": "stdout",
     "output_type": "stream",
     "text": [
      "***************************************************************************************************************\n",
      "PHOTON ANALYSIS: batching\n",
      "***************************************************************************************************************\n",
      "\n",
      "***************************************************************************************************************\n",
      "Outer Cross validation Fold 1\n",
      "***************************************************************************************************************\n"
     ]
    },
    {
     "name": "stderr",
     "output_type": "stream",
     "text": [
      "/opt/conda/lib/python3.7/site-packages/skopt/optimizer/optimizer.py:409: UserWarning: The objective has been evaluated at this point before.\n",
      "  warnings.warn(\"The objective has been evaluated \"\n",
      "/opt/conda/lib/python3.7/site-packages/skopt/optimizer/optimizer.py:409: UserWarning: The objective has been evaluated at this point before.\n",
      "  warnings.warn(\"The objective has been evaluated \"\n",
      "/opt/conda/lib/python3.7/site-packages/skopt/optimizer/optimizer.py:409: UserWarning: The objective has been evaluated at this point before.\n",
      "  warnings.warn(\"The objective has been evaluated \"\n",
      "/opt/conda/lib/python3.7/site-packages/skopt/optimizer/optimizer.py:409: UserWarning: The objective has been evaluated at this point before.\n",
      "  warnings.warn(\"The objective has been evaluated \"\n",
      "/opt/conda/lib/python3.7/site-packages/skopt/optimizer/optimizer.py:409: UserWarning: The objective has been evaluated at this point before.\n",
      "  warnings.warn(\"The objective has been evaluated \"\n",
      "/opt/conda/lib/python3.7/site-packages/skopt/optimizer/optimizer.py:409: UserWarning: The objective has been evaluated at this point before.\n",
      "  warnings.warn(\"The objective has been evaluated \"\n",
      "/opt/conda/lib/python3.7/site-packages/skopt/optimizer/optimizer.py:409: UserWarning: The objective has been evaluated at this point before.\n",
      "  warnings.warn(\"The objective has been evaluated \"\n",
      "/opt/conda/lib/python3.7/site-packages/skopt/optimizer/optimizer.py:409: UserWarning: The objective has been evaluated at this point before.\n",
      "  warnings.warn(\"The objective has been evaluated \"\n",
      "/opt/conda/lib/python3.7/site-packages/skopt/optimizer/optimizer.py:409: UserWarning: The objective has been evaluated at this point before.\n",
      "  warnings.warn(\"The objective has been evaluated \"\n",
      "/opt/conda/lib/python3.7/site-packages/skopt/optimizer/optimizer.py:409: UserWarning: The objective has been evaluated at this point before.\n",
      "  warnings.warn(\"The objective has been evaluated \"\n"
     ]
    },
    {
     "name": "stdout",
     "output_type": "stream",
     "text": [
      "---------------------------------------------------------------------------------------------------------------\n",
      "BEST_CONFIG \n",
      "---------------------------------------------------------------------------------------------------------------\n",
      "{\n",
      "    \"KMeans\": [\n",
      "        \"n_clusters=3\"\n",
      "    ]\n",
      "}\n",
      "+--------+-------------------+------------------+\n",
      "| METRIC | PERFORMANCE TRAIN | PERFORMANCE TEST |\n",
      "+--------+-------------------+------------------+\n",
      "|  ARI   |       0.6113      |      0.1433      |\n",
      "|   MI   |       0.5088      |      0.2901      |\n",
      "|  HCV   |       0.5137      |      0.3132      |\n",
      "|   FM   |       0.8451      |      0.5966      |\n",
      "+--------+-------------------+------------------+\n",
      "\n",
      "***************************************************************************************************************\n",
      "Outer Cross validation Fold 2\n",
      "***************************************************************************************************************\n"
     ]
    },
    {
     "name": "stderr",
     "output_type": "stream",
     "text": [
      "/opt/conda/lib/python3.7/site-packages/skopt/optimizer/optimizer.py:409: UserWarning: The objective has been evaluated at this point before.\n",
      "  warnings.warn(\"The objective has been evaluated \"\n",
      "/opt/conda/lib/python3.7/site-packages/skopt/optimizer/optimizer.py:409: UserWarning: The objective has been evaluated at this point before.\n",
      "  warnings.warn(\"The objective has been evaluated \"\n",
      "/opt/conda/lib/python3.7/site-packages/skopt/optimizer/optimizer.py:409: UserWarning: The objective has been evaluated at this point before.\n",
      "  warnings.warn(\"The objective has been evaluated \"\n",
      "/opt/conda/lib/python3.7/site-packages/skopt/optimizer/optimizer.py:409: UserWarning: The objective has been evaluated at this point before.\n",
      "  warnings.warn(\"The objective has been evaluated \"\n",
      "/opt/conda/lib/python3.7/site-packages/skopt/optimizer/optimizer.py:409: UserWarning: The objective has been evaluated at this point before.\n",
      "  warnings.warn(\"The objective has been evaluated \"\n",
      "/opt/conda/lib/python3.7/site-packages/skopt/optimizer/optimizer.py:409: UserWarning: The objective has been evaluated at this point before.\n",
      "  warnings.warn(\"The objective has been evaluated \"\n",
      "/opt/conda/lib/python3.7/site-packages/skopt/optimizer/optimizer.py:409: UserWarning: The objective has been evaluated at this point before.\n",
      "  warnings.warn(\"The objective has been evaluated \"\n",
      "/opt/conda/lib/python3.7/site-packages/skopt/optimizer/optimizer.py:409: UserWarning: The objective has been evaluated at this point before.\n",
      "  warnings.warn(\"The objective has been evaluated \"\n",
      "/opt/conda/lib/python3.7/site-packages/skopt/optimizer/optimizer.py:409: UserWarning: The objective has been evaluated at this point before.\n",
      "  warnings.warn(\"The objective has been evaluated \"\n"
     ]
    },
    {
     "name": "stdout",
     "output_type": "stream",
     "text": [
      "---------------------------------------------------------------------------------------------------------------\n",
      "BEST_CONFIG \n",
      "---------------------------------------------------------------------------------------------------------------\n",
      "{\n",
      "    \"KMeans\": [\n",
      "        \"n_clusters=3\"\n",
      "    ]\n",
      "}\n",
      "+--------+-------------------+------------------+\n",
      "| METRIC | PERFORMANCE TRAIN | PERFORMANCE TEST |\n",
      "+--------+-------------------+------------------+\n",
      "|  ARI   |       0.5332      |      0.3779      |\n",
      "|   MI   |       0.4726      |      0.3576      |\n",
      "|  HCV   |       0.4708      |      0.3723      |\n",
      "|   FM   |       0.8049      |      0.7157      |\n",
      "+--------+-------------------+------------------+\n",
      "\n",
      "***************************************************************************************************************\n",
      "Outer Cross validation Fold 3\n",
      "***************************************************************************************************************\n"
     ]
    },
    {
     "name": "stderr",
     "output_type": "stream",
     "text": [
      "/opt/conda/lib/python3.7/site-packages/skopt/optimizer/optimizer.py:409: UserWarning: The objective has been evaluated at this point before.\n",
      "  warnings.warn(\"The objective has been evaluated \"\n",
      "/opt/conda/lib/python3.7/site-packages/skopt/optimizer/optimizer.py:409: UserWarning: The objective has been evaluated at this point before.\n",
      "  warnings.warn(\"The objective has been evaluated \"\n",
      "/opt/conda/lib/python3.7/site-packages/skopt/optimizer/optimizer.py:409: UserWarning: The objective has been evaluated at this point before.\n",
      "  warnings.warn(\"The objective has been evaluated \"\n",
      "/opt/conda/lib/python3.7/site-packages/skopt/optimizer/optimizer.py:409: UserWarning: The objective has been evaluated at this point before.\n",
      "  warnings.warn(\"The objective has been evaluated \"\n",
      "/opt/conda/lib/python3.7/site-packages/skopt/optimizer/optimizer.py:409: UserWarning: The objective has been evaluated at this point before.\n",
      "  warnings.warn(\"The objective has been evaluated \"\n",
      "/opt/conda/lib/python3.7/site-packages/skopt/optimizer/optimizer.py:409: UserWarning: The objective has been evaluated at this point before.\n",
      "  warnings.warn(\"The objective has been evaluated \"\n",
      "/opt/conda/lib/python3.7/site-packages/skopt/optimizer/optimizer.py:409: UserWarning: The objective has been evaluated at this point before.\n",
      "  warnings.warn(\"The objective has been evaluated \"\n",
      "/opt/conda/lib/python3.7/site-packages/skopt/optimizer/optimizer.py:409: UserWarning: The objective has been evaluated at this point before.\n",
      "  warnings.warn(\"The objective has been evaluated \"\n",
      "/opt/conda/lib/python3.7/site-packages/skopt/optimizer/optimizer.py:409: UserWarning: The objective has been evaluated at this point before.\n",
      "  warnings.warn(\"The objective has been evaluated \"\n",
      "/opt/conda/lib/python3.7/site-packages/skopt/optimizer/optimizer.py:409: UserWarning: The objective has been evaluated at this point before.\n",
      "  warnings.warn(\"The objective has been evaluated \"\n"
     ]
    },
    {
     "name": "stdout",
     "output_type": "stream",
     "text": [
      "---------------------------------------------------------------------------------------------------------------\n",
      "BEST_CONFIG \n",
      "---------------------------------------------------------------------------------------------------------------\n",
      "{\n",
      "    \"KMeans\": [\n",
      "        \"n_clusters=2\"\n",
      "    ]\n",
      "}\n",
      "+--------+-------------------+------------------+\n",
      "| METRIC | PERFORMANCE TRAIN | PERFORMANCE TEST |\n",
      "+--------+-------------------+------------------+\n",
      "|  ARI   |       0.4503      |      0.6713      |\n",
      "|   MI   |       0.4313      |      0.6163      |\n",
      "|  HCV   |       0.3888      |      0.5849      |\n",
      "|   FM   |       0.7760      |      0.8610      |\n",
      "+--------+-------------------+------------------+\n",
      "\n",
      "***************************************************************************************************************\n",
      "Outer Cross validation Fold 4\n",
      "***************************************************************************************************************\n"
     ]
    },
    {
     "name": "stderr",
     "output_type": "stream",
     "text": [
      "/opt/conda/lib/python3.7/site-packages/skopt/optimizer/optimizer.py:409: UserWarning: The objective has been evaluated at this point before.\n",
      "  warnings.warn(\"The objective has been evaluated \"\n",
      "/opt/conda/lib/python3.7/site-packages/skopt/optimizer/optimizer.py:409: UserWarning: The objective has been evaluated at this point before.\n",
      "  warnings.warn(\"The objective has been evaluated \"\n",
      "/opt/conda/lib/python3.7/site-packages/skopt/optimizer/optimizer.py:409: UserWarning: The objective has been evaluated at this point before.\n",
      "  warnings.warn(\"The objective has been evaluated \"\n",
      "/opt/conda/lib/python3.7/site-packages/skopt/optimizer/optimizer.py:409: UserWarning: The objective has been evaluated at this point before.\n",
      "  warnings.warn(\"The objective has been evaluated \"\n",
      "/opt/conda/lib/python3.7/site-packages/skopt/optimizer/optimizer.py:409: UserWarning: The objective has been evaluated at this point before.\n",
      "  warnings.warn(\"The objective has been evaluated \"\n",
      "/opt/conda/lib/python3.7/site-packages/skopt/optimizer/optimizer.py:409: UserWarning: The objective has been evaluated at this point before.\n",
      "  warnings.warn(\"The objective has been evaluated \"\n",
      "/opt/conda/lib/python3.7/site-packages/skopt/optimizer/optimizer.py:409: UserWarning: The objective has been evaluated at this point before.\n",
      "  warnings.warn(\"The objective has been evaluated \"\n",
      "/opt/conda/lib/python3.7/site-packages/skopt/optimizer/optimizer.py:409: UserWarning: The objective has been evaluated at this point before.\n",
      "  warnings.warn(\"The objective has been evaluated \"\n",
      "/opt/conda/lib/python3.7/site-packages/skopt/optimizer/optimizer.py:409: UserWarning: The objective has been evaluated at this point before.\n",
      "  warnings.warn(\"The objective has been evaluated \"\n",
      "/opt/conda/lib/python3.7/site-packages/skopt/optimizer/optimizer.py:409: UserWarning: The objective has been evaluated at this point before.\n",
      "  warnings.warn(\"The objective has been evaluated \"\n"
     ]
    },
    {
     "name": "stdout",
     "output_type": "stream",
     "text": [
      "---------------------------------------------------------------------------------------------------------------\n",
      "BEST_CONFIG \n",
      "---------------------------------------------------------------------------------------------------------------\n",
      "{\n",
      "    \"KMeans\": [\n",
      "        \"n_clusters=3\"\n",
      "    ]\n",
      "}\n",
      "+--------+-------------------+------------------+\n",
      "| METRIC | PERFORMANCE TRAIN | PERFORMANCE TEST |\n",
      "+--------+-------------------+------------------+\n",
      "|  ARI   |       0.4709      |      0.7271      |\n",
      "|   MI   |       0.4328      |      0.6100      |\n",
      "|  HCV   |       0.4410      |      0.6170      |\n",
      "|   FM   |       0.7640      |      0.9043      |\n",
      "+--------+-------------------+------------------+\n",
      "\n",
      "***************************************************************************************************************\n",
      "Outer Cross validation Fold 5\n",
      "***************************************************************************************************************\n"
     ]
    },
    {
     "name": "stderr",
     "output_type": "stream",
     "text": [
      "/opt/conda/lib/python3.7/site-packages/skopt/optimizer/optimizer.py:409: UserWarning: The objective has been evaluated at this point before.\n",
      "  warnings.warn(\"The objective has been evaluated \"\n",
      "/opt/conda/lib/python3.7/site-packages/skopt/optimizer/optimizer.py:409: UserWarning: The objective has been evaluated at this point before.\n",
      "  warnings.warn(\"The objective has been evaluated \"\n",
      "/opt/conda/lib/python3.7/site-packages/skopt/optimizer/optimizer.py:409: UserWarning: The objective has been evaluated at this point before.\n",
      "  warnings.warn(\"The objective has been evaluated \"\n",
      "/opt/conda/lib/python3.7/site-packages/skopt/optimizer/optimizer.py:409: UserWarning: The objective has been evaluated at this point before.\n",
      "  warnings.warn(\"The objective has been evaluated \"\n",
      "/opt/conda/lib/python3.7/site-packages/skopt/optimizer/optimizer.py:409: UserWarning: The objective has been evaluated at this point before.\n",
      "  warnings.warn(\"The objective has been evaluated \"\n",
      "/opt/conda/lib/python3.7/site-packages/skopt/optimizer/optimizer.py:409: UserWarning: The objective has been evaluated at this point before.\n",
      "  warnings.warn(\"The objective has been evaluated \"\n",
      "/opt/conda/lib/python3.7/site-packages/skopt/optimizer/optimizer.py:409: UserWarning: The objective has been evaluated at this point before.\n",
      "  warnings.warn(\"The objective has been evaluated \"\n",
      "/opt/conda/lib/python3.7/site-packages/skopt/optimizer/optimizer.py:409: UserWarning: The objective has been evaluated at this point before.\n",
      "  warnings.warn(\"The objective has been evaluated \"\n",
      "/opt/conda/lib/python3.7/site-packages/skopt/optimizer/optimizer.py:409: UserWarning: The objective has been evaluated at this point before.\n",
      "  warnings.warn(\"The objective has been evaluated \"\n"
     ]
    },
    {
     "name": "stdout",
     "output_type": "stream",
     "text": [
      "---------------------------------------------------------------------------------------------------------------\n",
      "BEST_CONFIG \n",
      "---------------------------------------------------------------------------------------------------------------\n",
      "{\n",
      "    \"KMeans\": [\n",
      "        \"n_clusters=3\"\n",
      "    ]\n",
      "}\n",
      "+--------+-------------------+------------------+\n",
      "| METRIC | PERFORMANCE TRAIN | PERFORMANCE TEST |\n",
      "+--------+-------------------+------------------+\n",
      "|  ARI   |       0.5147      |      0.6797      |\n",
      "|   MI   |       0.4630      |      0.4966      |\n",
      "|  HCV   |       0.5018      |      0.5406      |\n",
      "|   FM   |       0.7716      |      0.8895      |\n",
      "+--------+-------------------+------------------+\n",
      "\n",
      "===============================================================================================================\n",
      "OVERALL BEST CONFIGURATION\n",
      "===============================================================================================================\n",
      "{\n",
      "    \"KMeans\": [\n",
      "        \"n_clusters=3\"\n",
      "    ]\n",
      "}\n"
     ]
    },
    {
     "name": "stderr",
     "output_type": "stream",
     "text": [
      "/docker/photon/photonai/processing/results_handler.py:699: RuntimeWarning: invalid value encountered in double_scalars\n",
      "  if pct / total >= 1:\n"
     ]
    },
    {
     "name": "stdout",
     "output_type": "stream",
     "text": [
      "Custom pipeline element must implement .save() method or allow pickle.\n",
      "name 'PhotonaiNotImplementedError' is not defined\n",
      "Traceback (most recent call last):\n",
      "  File \"/docker/photon/photonai/base/hyperpipe.py\", line 1606, in save_elements\n",
      "    joblib.dump(\n",
      "NameError: name 'joblib' is not defined\n",
      "\n",
      "During handling of the above exception, another exception occurred:\n",
      "\n",
      "Traceback (most recent call last):\n",
      "  File \"/docker/photon/photonai/base/hyperpipe.py\", line 1205, in fit\n",
      "    self._finalize_optimization()\n",
      "  File \"/docker/photon/photonai/base/hyperpipe.py\", line 875, in _finalize_optimization\n",
      "    self.optimum_pipe, pretrained_model_filename\n",
      "  File \"/docker/photon/photonai/base/hyperpipe.py\", line 1643, in save_optimum_pipe\n",
      "    [val[1] for val in optimum_pipe.elements], folder\n",
      "  File \"/docker/photon/photonai/base/hyperpipe.py\", line 1612, in save_elements\n",
      "    \"Custom pipeline element must implement .save() method or \"\n",
      "  File \"/docker/photon/photonai/errors.py\", line 48, in raise_PhotonaiNotImplementedError\n",
      "    raise PhotonaiNotImplementedError(msg)\n",
      "NameError: name 'PhotonaiNotImplementedError' is not defined\n",
      "\n"
     ]
    },
    {
     "name": "stderr",
     "output_type": "stream",
     "text": [
      "Traceback (most recent call last):\n",
      "  File \"/docker/photon/photonai/base/hyperpipe.py\", line 1606, in save_elements\n",
      "    joblib.dump(\n",
      "NameError: name 'joblib' is not defined\n",
      "\n",
      "During handling of the above exception, another exception occurred:\n",
      "\n",
      "Traceback (most recent call last):\n",
      "  File \"/docker/photon/photonai/base/hyperpipe.py\", line 1205, in fit\n",
      "    self._finalize_optimization()\n",
      "  File \"/docker/photon/photonai/base/hyperpipe.py\", line 875, in _finalize_optimization\n",
      "    self.optimum_pipe, pretrained_model_filename\n",
      "  File \"/docker/photon/photonai/base/hyperpipe.py\", line 1643, in save_optimum_pipe\n",
      "    [val[1] for val in optimum_pipe.elements], folder\n",
      "  File \"/docker/photon/photonai/base/hyperpipe.py\", line 1612, in save_elements\n",
      "    \"Custom pipeline element must implement .save() method or \"\n",
      "  File \"/docker/photon/photonai/errors.py\", line 48, in raise_PhotonaiNotImplementedError\n",
      "    raise PhotonaiNotImplementedError(msg)\n",
      "NameError: name 'PhotonaiNotImplementedError' is not defined\n"
     ]
    },
    {
     "ename": "NameError",
     "evalue": "name 'PhotonaiNotImplementedError' is not defined",
     "output_type": "error",
     "traceback": [
      "\u001b[0;31m---------------------------------------------------------------------------\u001b[0m",
      "\u001b[0;31mNameError\u001b[0m                                 Traceback (most recent call last)",
      "\u001b[0;32m/docker/photon/photonai/base/hyperpipe.py\u001b[0m in \u001b[0;36msave_elements\u001b[0;34m(elements, folder)\u001b[0m\n\u001b[1;32m   1605\u001b[0m                     \u001b[0;32mtry\u001b[0m\u001b[0;34m:\u001b[0m\u001b[0;34m\u001b[0m\u001b[0;34m\u001b[0m\u001b[0m\n\u001b[0;32m-> 1606\u001b[0;31m                         joblib.dump(\n\u001b[0m\u001b[1;32m   1607\u001b[0m                             \u001b[0melement\u001b[0m\u001b[0;34m,\u001b[0m \u001b[0mos\u001b[0m\u001b[0;34m.\u001b[0m\u001b[0mpath\u001b[0m\u001b[0;34m.\u001b[0m\u001b[0mjoin\u001b[0m\u001b[0;34m(\u001b[0m\u001b[0mfolder\u001b[0m\u001b[0;34m,\u001b[0m \u001b[0mfilename\u001b[0m\u001b[0;34m)\u001b[0m \u001b[0;34m+\u001b[0m \u001b[0;34m\".pkl\"\u001b[0m\u001b[0;34m,\u001b[0m \u001b[0mcompress\u001b[0m\u001b[0;34m=\u001b[0m\u001b[0;36m1\u001b[0m\u001b[0;34m\u001b[0m\u001b[0;34m\u001b[0m\u001b[0m\n",
      "\u001b[0;31mNameError\u001b[0m: name 'joblib' is not defined",
      "\nDuring handling of the above exception, another exception occurred:\n",
      "\u001b[0;31mNameError\u001b[0m                                 Traceback (most recent call last)",
      "\u001b[0;32mexp1.log\u001b[0m in \u001b[0;36m<module>\u001b[0;34m\u001b[0m\n\u001b[1;32m     32\u001b[0m \u001b[0;34m\u001b[0m\u001b[0m\n\u001b[1;32m     33\u001b[0m \u001b[0;31m# NOW TRAIN YOUR PIPELINE\u001b[0m\u001b[0;34m\u001b[0m\u001b[0;34m\u001b[0m\u001b[0;34m\u001b[0m\u001b[0m\n\u001b[0;32m---> 34\u001b[0;31m \u001b[0mmy_pipe\u001b[0m\u001b[0;34m.\u001b[0m\u001b[0mfit\u001b[0m\u001b[0;34m(\u001b[0m\u001b[0mX\u001b[0m\u001b[0;34m,\u001b[0m \u001b[0my\u001b[0m\u001b[0;34m)\u001b[0m\u001b[0;34m\u001b[0m\u001b[0;34m\u001b[0m\u001b[0m\n\u001b[0m\u001b[1;32m     35\u001b[0m \u001b[0;34m\u001b[0m\u001b[0m\n\u001b[1;32m     36\u001b[0m \u001b[0mdebug\u001b[0m \u001b[0;34m=\u001b[0m \u001b[0;32mTrue\u001b[0m\u001b[0;34m\u001b[0m\u001b[0;34m\u001b[0m\u001b[0m\n",
      "\u001b[0;32m/docker/photon/photonai/base/hyperpipe.py\u001b[0m in \u001b[0;36mfit\u001b[0;34m(self, data, targets, **kwargs)\u001b[0m\n\u001b[1;32m   1216\u001b[0m             \u001b[0mlogger\u001b[0m\u001b[0;34m.\u001b[0m\u001b[0merror\u001b[0m\u001b[0;34m(\u001b[0m\u001b[0mtraceback\u001b[0m\u001b[0;34m.\u001b[0m\u001b[0mformat_exc\u001b[0m\u001b[0;34m(\u001b[0m\u001b[0;34m)\u001b[0m\u001b[0;34m)\u001b[0m\u001b[0;34m\u001b[0m\u001b[0;34m\u001b[0m\u001b[0m\n\u001b[1;32m   1217\u001b[0m             \u001b[0mtraceback\u001b[0m\u001b[0;34m.\u001b[0m\u001b[0mprint_exc\u001b[0m\u001b[0;34m(\u001b[0m\u001b[0;34m)\u001b[0m\u001b[0;34m\u001b[0m\u001b[0;34m\u001b[0m\u001b[0m\n\u001b[0;32m-> 1218\u001b[0;31m             \u001b[0;32mraise\u001b[0m \u001b[0me\u001b[0m\u001b[0;34m\u001b[0m\u001b[0;34m\u001b[0m\u001b[0m\n\u001b[0m\u001b[1;32m   1219\u001b[0m         \u001b[0;32mfinally\u001b[0m\u001b[0;34m:\u001b[0m\u001b[0;34m\u001b[0m\u001b[0;34m\u001b[0m\u001b[0m\n\u001b[1;32m   1220\u001b[0m             \u001b[0;32mif\u001b[0m \u001b[0mself\u001b[0m\u001b[0;34m.\u001b[0m\u001b[0mnr_of_processes\u001b[0m \u001b[0;34m>\u001b[0m \u001b[0;36m1\u001b[0m\u001b[0;34m:\u001b[0m\u001b[0;34m\u001b[0m\u001b[0;34m\u001b[0m\u001b[0m\n",
      "\u001b[0;32m/docker/photon/photonai/base/hyperpipe.py\u001b[0m in \u001b[0;36mfit\u001b[0;34m(self, data, targets, **kwargs)\u001b[0m\n\u001b[1;32m   1203\u001b[0m \u001b[0;34m\u001b[0m\u001b[0m\n\u001b[1;32m   1204\u001b[0m                 \u001b[0;31m# evaluate hyperparameter optimization results for best config\u001b[0m\u001b[0;34m\u001b[0m\u001b[0;34m\u001b[0m\u001b[0;34m\u001b[0m\u001b[0m\n\u001b[0;32m-> 1205\u001b[0;31m                 \u001b[0mself\u001b[0m\u001b[0;34m.\u001b[0m\u001b[0m_finalize_optimization\u001b[0m\u001b[0;34m(\u001b[0m\u001b[0;34m)\u001b[0m\u001b[0;34m\u001b[0m\u001b[0;34m\u001b[0m\u001b[0m\n\u001b[0m\u001b[1;32m   1206\u001b[0m \u001b[0;34m\u001b[0m\u001b[0m\n\u001b[1;32m   1207\u001b[0m                 \u001b[0;31m# clear complete cache ?\u001b[0m\u001b[0;34m\u001b[0m\u001b[0;34m\u001b[0m\u001b[0;34m\u001b[0m\u001b[0m\n",
      "\u001b[0;32m/docker/photon/photonai/base/hyperpipe.py\u001b[0m in \u001b[0;36m_finalize_optimization\u001b[0;34m(self)\u001b[0m\n\u001b[1;32m    873\u001b[0m                 )\n\u001b[1;32m    874\u001b[0m                 PhotonModelPersistor.save_optimum_pipe(\n\u001b[0;32m--> 875\u001b[0;31m                     \u001b[0mself\u001b[0m\u001b[0;34m.\u001b[0m\u001b[0moptimum_pipe\u001b[0m\u001b[0;34m,\u001b[0m \u001b[0mpretrained_model_filename\u001b[0m\u001b[0;34m\u001b[0m\u001b[0;34m\u001b[0m\u001b[0m\n\u001b[0m\u001b[1;32m    876\u001b[0m                 )\n\u001b[1;32m    877\u001b[0m                 \u001b[0mlogger\u001b[0m\u001b[0;34m.\u001b[0m\u001b[0minfo\u001b[0m\u001b[0;34m(\u001b[0m\u001b[0;34m\"Saved best model to file.\"\u001b[0m\u001b[0;34m)\u001b[0m\u001b[0;34m\u001b[0m\u001b[0;34m\u001b[0m\u001b[0m\n",
      "\u001b[0;32m/docker/photon/photonai/base/hyperpipe.py\u001b[0m in \u001b[0;36msave_optimum_pipe\u001b[0;34m(optimum_pipe, zip_file, password)\u001b[0m\n\u001b[1;32m   1641\u001b[0m         \u001b[0;31m# only save elements without name. Structure of optimum_pipe.elements: [('name', element),...]\u001b[0m\u001b[0;34m\u001b[0m\u001b[0;34m\u001b[0m\u001b[0;34m\u001b[0m\u001b[0m\n\u001b[1;32m   1642\u001b[0m         PhotonModelPersistor.save_elements(\n\u001b[0;32m-> 1643\u001b[0;31m             \u001b[0;34m[\u001b[0m\u001b[0mval\u001b[0m\u001b[0;34m[\u001b[0m\u001b[0;36m1\u001b[0m\u001b[0;34m]\u001b[0m \u001b[0;32mfor\u001b[0m \u001b[0mval\u001b[0m \u001b[0;32min\u001b[0m \u001b[0moptimum_pipe\u001b[0m\u001b[0;34m.\u001b[0m\u001b[0melements\u001b[0m\u001b[0;34m]\u001b[0m\u001b[0;34m,\u001b[0m \u001b[0mfolder\u001b[0m\u001b[0;34m\u001b[0m\u001b[0;34m\u001b[0m\u001b[0m\n\u001b[0m\u001b[1;32m   1644\u001b[0m         )\n\u001b[1;32m   1645\u001b[0m \u001b[0;34m\u001b[0m\u001b[0m\n",
      "\u001b[0;32m/docker/photon/photonai/base/hyperpipe.py\u001b[0m in \u001b[0;36msave_elements\u001b[0;34m(elements, folder)\u001b[0m\n\u001b[1;32m   1610\u001b[0m                     \u001b[0;32mexcept\u001b[0m\u001b[0;34m:\u001b[0m\u001b[0;34m\u001b[0m\u001b[0;34m\u001b[0m\u001b[0m\n\u001b[1;32m   1611\u001b[0m                         raise_PhotonaiNotImplementedError(\n\u001b[0;32m-> 1612\u001b[0;31m                             \u001b[0;34m\"Custom pipeline element must implement .save() method or \"\u001b[0m\u001b[0;34m\u001b[0m\u001b[0;34m\u001b[0m\u001b[0m\n\u001b[0m\u001b[1;32m   1613\u001b[0m                             \u001b[0;34m\"allow pickle.\"\u001b[0m\u001b[0;34m\u001b[0m\u001b[0;34m\u001b[0m\u001b[0m\n\u001b[1;32m   1614\u001b[0m                         )\n",
      "\u001b[0;32m/docker/photon/photonai/errors.py\u001b[0m in \u001b[0;36mraise_PhotonaiNotImplementedError\u001b[0;34m(msg)\u001b[0m\n\u001b[1;32m     46\u001b[0m     \"\"\"\n\u001b[1;32m     47\u001b[0m     \u001b[0mlogger\u001b[0m\u001b[0;34m.\u001b[0m\u001b[0merror\u001b[0m\u001b[0;34m(\u001b[0m\u001b[0mmsg\u001b[0m\u001b[0;34m)\u001b[0m\u001b[0;34m\u001b[0m\u001b[0;34m\u001b[0m\u001b[0m\n\u001b[0;32m---> 48\u001b[0;31m     \u001b[0;32mraise\u001b[0m \u001b[0mPhotonaiNotImplementedError\u001b[0m\u001b[0;34m(\u001b[0m\u001b[0mmsg\u001b[0m\u001b[0;34m)\u001b[0m\u001b[0;34m\u001b[0m\u001b[0;34m\u001b[0m\u001b[0m\n\u001b[0m",
      "\u001b[0;31mNameError\u001b[0m: name 'PhotonaiNotImplementedError' is not defined"
     ]
    },
    {
     "data": {
      "image/png": "[encoded data removed]",
      "text/plain": [
       "<Figure size 432x288 with 1 Axes>"
      ]
     },
     "metadata": {},
     "output_type": "display_data"
    }
   ],
   "source": [
    "#import pixiedust\n",
    "#%%pixie_debugger\n",
    "\n",
    "\"\"\"\n",
    "Example script for kmeans hopt\n",
    "\"\"\"\n",
    "from sklearn.datasets import make_moons, load_iris, make_blobs, load_breast_cancer\n",
    "#X, y = make_moons(200, noise=.05, random_state=0)\n",
    "#X, y = load_iris(True)\n",
    "#X, y = load_iris(True)\n",
    "X, y = load_breast_cancer(True)\n",
    "\n",
    "\n",
    "plt.scatter(X[:, 0], X[:, 1], s=50);\n",
    "# DESIGN YOUR PIPELINE\n",
    "settings = OutputSettings(project_folder='./tmp/')\n",
    "\n",
    "my_pipe = Hyperpipe('batching',\n",
    "                    optimizer='sk_opt',\n",
    "#                    optimizer_params={'n_configurations': 25},\n",
    "                    metrics=['ARI', 'MI', 'HCV', 'FM'],\n",
    "                    best_config_metric='ARI',\n",
    "                    outer_cv=KFold(n_splits=5),\n",
    "                    inner_cv=KFold(n_splits=10),\n",
    "                    verbosity=0,\n",
    "                    output_settings=settings)\n",
    "\n",
    "\n",
    "my_pipe += PipelineElement('KMeans', hyperparameters={\n",
    "                                                    'n_clusters': IntegerRange(2, 8),\n",
    "                                                    },random_state=777)\n",
    "\n",
    "# NOW TRAIN YOUR PIPELINE\n",
    "my_pipe.fit(X, y)\n",
    "\n",
    "debug = True\n",
    "\n"
   ]
  },
  {
   "cell_type": "code",
   "execution_count": null,
   "metadata": {},
   "outputs": [],
   "source": []
  },
  {
   "cell_type": "code",
   "execution_count": null,
   "metadata": {},
   "outputs": [],
   "source": []
  },
  {
   "cell_type": "markdown",
   "metadata": {},
   "source": [
    "## RF"
   ]
  },
  {
   "cell_type": "code",
   "execution_count": 15,
   "metadata": {
    "ExecuteTime": {
     "end_time": "2020-05-15T00:11:09.608909Z",
     "start_time": "2020-05-15T00:11:09.468551Z"
    }
   },
   "outputs": [
    {
     "name": "stdout",
     "output_type": "stream",
     "text": [
      "----------------------------------\n",
      "Name: RandomForestClassifier\n",
      "Namespace: sklearn.ensemble\n",
      "----------------------------------\n",
      "Possible Hyperparameters as derived from constructor:\n",
      "n_estimators                        n_estimators=100                                                           \n",
      "criterion                           criterion='gini'                                                           \n",
      "max_depth                           max_depth=None                                                             \n",
      "min_samples_split                   min_samples_split=2                                                        \n",
      "min_samples_leaf                    min_samples_leaf=1                                                         \n",
      "min_weight_fraction_leaf            min_weight_fraction_leaf=0.0                                               \n",
      "max_features                        max_features='auto'                                                        \n",
      "max_leaf_nodes                      max_leaf_nodes=None                                                        \n",
      "min_impurity_decrease               min_impurity_decrease=0.0                                                  \n",
      "min_impurity_split                  min_impurity_split=None                                                    \n",
      "bootstrap                           bootstrap=True                                                             \n",
      "oob_score                           oob_score=False                                                            \n",
      "n_jobs                              n_jobs=None                                                                \n",
      "random_state                        random_state=None                                                          \n",
      "verbose                             verbose=0                                                                  \n",
      "warm_start                          warm_start=False                                                           \n",
      "class_weight                        class_weight=None                                                          \n",
      "ccp_alpha                           ccp_alpha=0.0                                                              \n",
      "max_samples                         max_samples=None                                                           \n",
      "----------------------------------\n"
     ]
    },
    {
     "data": {
      "text/plain": [
       "('RandomForestClassifier',\n",
       " 'sklearn.ensemble',\n",
       " {'n_estimators': 'n_estimators',\n",
       "  'criterion': 'criterion',\n",
       "  'max_depth': 'max_depth',\n",
       "  'min_samples_split': 'min_samples_split',\n",
       "  'min_samples_leaf': 'min_samples_leaf',\n",
       "  'min_weight_fraction_leaf': 'min_weight_fraction_leaf',\n",
       "  'max_features': 'max_features',\n",
       "  'max_leaf_nodes': 'max_leaf_nodes',\n",
       "  'min_impurity_decrease': 'min_impurity_decrease',\n",
       "  'min_impurity_split': 'min_impurity_split',\n",
       "  'bootstrap': 'bootstrap',\n",
       "  'oob_score': 'oob_score',\n",
       "  'n_jobs': 'n_jobs',\n",
       "  'random_state': 'random_state',\n",
       "  'verbose': 'verbose',\n",
       "  'warm_start': 'warm_start',\n",
       "  'class_weight': 'class_weight',\n",
       "  'ccp_alpha': 'ccp_alpha',\n",
       "  'max_samples': 'max_samples'})"
      ]
     },
     "execution_count": 15,
     "metadata": {},
     "output_type": "execute_result"
    }
   ],
   "source": [
    "registry.info(\"RandomForestClassifier\")"
   ]
  },
  {
   "cell_type": "code",
   "execution_count": null,
   "metadata": {
    "ExecuteTime": {
     "end_time": "2020-05-13T23:47:45.817077Z",
     "start_time": "2020-05-13T23:47:45.810781Z"
    }
   },
   "outputs": [],
   "source": []
  },
  {
   "cell_type": "code",
   "execution_count": 16,
   "metadata": {
    "ExecuteTime": {
     "end_time": "2020-05-15T00:13:14.579267Z",
     "start_time": "2020-05-15T00:11:09.612194Z"
    }
   },
   "outputs": [
    {
     "name": "stdout",
     "output_type": "stream",
     "text": [
      "15/05/2020-00:11:09 | Output Folder: ./tmp/batching_results_2020-05-15_00-11-09\n",
      "***************************************************************************************************************\n",
      "PHOTON ANALYSIS: batching\n",
      "***************************************************************************************************************\n",
      "15/05/2020-00:11:09 | Preparing data and PHOTON objects for analysis...\n",
      "15/05/2020-00:11:09 | Checking input data...\n",
      "15/05/2020-00:11:09 | Running analysis with 150 samples.\n",
      "\n",
      "***************************************************************************************************************\n",
      "Outer Cross validation Fold 1\n",
      "***************************************************************************************************************\n",
      "15/05/2020-00:11:09 | Preparing data for outer fold 1...\n",
      "15/05/2020-00:11:09 | Running Dummy Estimator...\n",
      "Target is multiclass but average='binary'. Please choose another average setting, one of [None, 'micro', 'macro', 'weighted'].\n",
      "15/05/2020-00:11:09 | Skipping dummy because of error..\n",
      "15/05/2020-00:11:09 | Preparing Hyperparameter Optimization...\n",
      "---------------------------------------------------------------------------------------------------------------\n",
      "{\n",
      "    \"RandomForestClassifier\": [\n",
      "        \"n_estimators=850\"\n",
      "    ]\n",
      "}\n"
     ]
    },
    {
     "name": "stderr",
     "output_type": "stream",
     "text": [
      "/opt/conda/lib/python3.7/site-packages/sklearn/metrics/_classification.py:1268: UndefinedMetricWarning: Precision is ill-defined and being set to 0.0 due to no predicted samples. Use `zero_division` parameter to control this behavior.\n",
      "  _warn_prf(average, modifier, msg_start, len(result))\n",
      "/opt/conda/lib/python3.7/site-packages/sklearn/metrics/_classification.py:1268: UndefinedMetricWarning: Precision is ill-defined and being set to 0.0 due to no predicted samples. Use `zero_division` parameter to control this behavior.\n",
      "  _warn_prf(average, modifier, msg_start, len(result))\n"
     ]
    },
    {
     "name": "stdout",
     "output_type": "stream",
     "text": [
      "15/05/2020-00:11:12 | Specificity (metric) is valid only for binary classification problems. You have 1 classes.\n"
     ]
    },
    {
     "name": "stderr",
     "output_type": "stream",
     "text": [
      "/opt/conda/lib/python3.7/site-packages/sklearn/metrics/_classification.py:1268: UndefinedMetricWarning: Precision is ill-defined and being set to 0.0 due to no predicted samples. Use `zero_division` parameter to control this behavior.\n",
      "  _warn_prf(average, modifier, msg_start, len(result))\n",
      "/opt/conda/lib/python3.7/site-packages/sklearn/metrics/_classification.py:1268: UndefinedMetricWarning: Recall is ill-defined and being set to 0.0 due to no true samples. Use `zero_division` parameter to control this behavior.\n",
      "  _warn_prf(average, modifier, msg_start, len(result))\n"
     ]
    },
    {
     "name": "stdout",
     "output_type": "stream",
     "text": [
      "15/05/2020-00:11:14 | Specificity (metric) is valid only for binary classification problems. You have 1 classes.\n"
     ]
    },
    {
     "name": "stderr",
     "output_type": "stream",
     "text": [
      "/opt/conda/lib/python3.7/site-packages/sklearn/metrics/_classification.py:1268: UndefinedMetricWarning: Recall is ill-defined and being set to 0.0 due to no true samples. Use `zero_division` parameter to control this behavior.\n",
      "  _warn_prf(average, modifier, msg_start, len(result))\n"
     ]
    },
    {
     "name": "stdout",
     "output_type": "stream",
     "text": [
      "15/05/2020-00:11:15 | Computed configuration 1/20 in 0:00:05.320892\n",
      "15/05/2020-00:11:15 | Performance:             accuracy - Train: 1.0000, Validation: 0.6170\n",
      "15/05/2020-00:11:15 | Best Performance So Far: accuracy - Train: 1.0000, Validation: 0.6170\n",
      "---------------------------------------------------------------------------------------------------------------\n",
      "{\n",
      "    \"RandomForestClassifier\": [\n",
      "        \"n_estimators=1353\"\n",
      "    ]\n",
      "}\n"
     ]
    },
    {
     "name": "stderr",
     "output_type": "stream",
     "text": [
      "/opt/conda/lib/python3.7/site-packages/sklearn/metrics/_classification.py:1268: UndefinedMetricWarning: Precision is ill-defined and being set to 0.0 due to no predicted samples. Use `zero_division` parameter to control this behavior.\n",
      "  _warn_prf(average, modifier, msg_start, len(result))\n"
     ]
    },
    {
     "name": "stdout",
     "output_type": "stream",
     "text": [
      "15/05/2020-00:11:18 | Specificity (metric) is valid only for binary classification problems. You have 1 classes.\n"
     ]
    },
    {
     "name": "stderr",
     "output_type": "stream",
     "text": [
      "/opt/conda/lib/python3.7/site-packages/sklearn/metrics/_classification.py:1268: UndefinedMetricWarning: Precision is ill-defined and being set to 0.0 due to no predicted samples. Use `zero_division` parameter to control this behavior.\n",
      "  _warn_prf(average, modifier, msg_start, len(result))\n",
      "/opt/conda/lib/python3.7/site-packages/sklearn/metrics/_classification.py:1268: UndefinedMetricWarning: Recall is ill-defined and being set to 0.0 due to no true samples. Use `zero_division` parameter to control this behavior.\n",
      "  _warn_prf(average, modifier, msg_start, len(result))\n"
     ]
    },
    {
     "name": "stdout",
     "output_type": "stream",
     "text": [
      "15/05/2020-00:11:22 | Specificity (metric) is valid only for binary classification problems. You have 1 classes.\n"
     ]
    },
    {
     "name": "stderr",
     "output_type": "stream",
     "text": [
      "/opt/conda/lib/python3.7/site-packages/sklearn/metrics/_classification.py:1268: UndefinedMetricWarning: Recall is ill-defined and being set to 0.0 due to no true samples. Use `zero_division` parameter to control this behavior.\n",
      "  _warn_prf(average, modifier, msg_start, len(result))\n"
     ]
    },
    {
     "name": "stdout",
     "output_type": "stream",
     "text": [
      "15/05/2020-00:11:23 | Computed configuration 2/20 in 0:00:08.462317\n",
      "15/05/2020-00:11:23 | Performance:             accuracy - Train: 1.0000, Validation: 0.6170\n",
      "15/05/2020-00:11:23 | Best Performance So Far: accuracy - Train: 1.0000, Validation: 0.6170\n",
      "---------------------------------------------------------------------------------------------------------------\n",
      "{\n",
      "    \"RandomForestClassifier\": [\n",
      "        \"n_estimators=1260\"\n",
      "    ]\n",
      "}\n"
     ]
    },
    {
     "name": "stderr",
     "output_type": "stream",
     "text": [
      "/opt/conda/lib/python3.7/site-packages/sklearn/metrics/_classification.py:1268: UndefinedMetricWarning: Precision is ill-defined and being set to 0.0 due to no predicted samples. Use `zero_division` parameter to control this behavior.\n",
      "  _warn_prf(average, modifier, msg_start, len(result))\n"
     ]
    },
    {
     "name": "stdout",
     "output_type": "stream",
     "text": [
      "15/05/2020-00:11:27 | Specificity (metric) is valid only for binary classification problems. You have 1 classes.\n"
     ]
    },
    {
     "name": "stderr",
     "output_type": "stream",
     "text": [
      "/opt/conda/lib/python3.7/site-packages/sklearn/metrics/_classification.py:1268: UndefinedMetricWarning: Precision is ill-defined and being set to 0.0 due to no predicted samples. Use `zero_division` parameter to control this behavior.\n",
      "  _warn_prf(average, modifier, msg_start, len(result))\n",
      "/opt/conda/lib/python3.7/site-packages/sklearn/metrics/_classification.py:1268: UndefinedMetricWarning: Recall is ill-defined and being set to 0.0 due to no true samples. Use `zero_division` parameter to control this behavior.\n",
      "  _warn_prf(average, modifier, msg_start, len(result))\n"
     ]
    },
    {
     "name": "stdout",
     "output_type": "stream",
     "text": [
      "15/05/2020-00:11:30 | Specificity (metric) is valid only for binary classification problems. You have 1 classes.\n"
     ]
    },
    {
     "name": "stderr",
     "output_type": "stream",
     "text": [
      "/opt/conda/lib/python3.7/site-packages/sklearn/metrics/_classification.py:1268: UndefinedMetricWarning: Recall is ill-defined and being set to 0.0 due to no true samples. Use `zero_division` parameter to control this behavior.\n",
      "  _warn_prf(average, modifier, msg_start, len(result))\n"
     ]
    },
    {
     "name": "stdout",
     "output_type": "stream",
     "text": [
      "15/05/2020-00:11:31 | Computed configuration 3/20 in 0:00:07.787430\n",
      "15/05/2020-00:11:31 | Performance:             accuracy - Train: 1.0000, Validation: 0.6170\n",
      "15/05/2020-00:11:31 | Best Performance So Far: accuracy - Train: 1.0000, Validation: 0.6170\n",
      "---------------------------------------------------------------------------------------------------------------\n",
      "{\n",
      "    \"RandomForestClassifier\": [\n",
      "        \"n_estimators=152\"\n",
      "    ]\n",
      "}\n",
      "15/05/2020-00:11:31 | Specificity (metric) is valid only for binary classification problems. You have 1 classes.\n"
     ]
    },
    {
     "name": "stderr",
     "output_type": "stream",
     "text": [
      "/opt/conda/lib/python3.7/site-packages/sklearn/metrics/_classification.py:1268: UndefinedMetricWarning: Precision is ill-defined and being set to 0.0 due to no predicted samples. Use `zero_division` parameter to control this behavior.\n",
      "  _warn_prf(average, modifier, msg_start, len(result))\n",
      "/opt/conda/lib/python3.7/site-packages/sklearn/metrics/_classification.py:1268: UndefinedMetricWarning: Precision is ill-defined and being set to 0.0 due to no predicted samples. Use `zero_division` parameter to control this behavior.\n",
      "  _warn_prf(average, modifier, msg_start, len(result))\n",
      "/opt/conda/lib/python3.7/site-packages/sklearn/metrics/_classification.py:1268: UndefinedMetricWarning: Recall is ill-defined and being set to 0.0 due to no true samples. Use `zero_division` parameter to control this behavior.\n",
      "  _warn_prf(average, modifier, msg_start, len(result))\n"
     ]
    },
    {
     "name": "stdout",
     "output_type": "stream",
     "text": [
      "15/05/2020-00:11:32 | Specificity (metric) is valid only for binary classification problems. You have 1 classes.\n",
      "15/05/2020-00:11:32 | Computed configuration 4/20 in 0:00:01.018582\n",
      "15/05/2020-00:11:32 | Performance:             accuracy - Train: 1.0000, Validation: 0.6170\n",
      "15/05/2020-00:11:32 | Best Performance So Far: accuracy - Train: 1.0000, Validation: 0.6170\n",
      "---------------------------------------------------------------------------------------------------------------\n",
      "{\n",
      "    \"RandomForestClassifier\": [\n",
      "        \"n_estimators=1903\"\n",
      "    ]\n",
      "}\n"
     ]
    },
    {
     "name": "stderr",
     "output_type": "stream",
     "text": [
      "/opt/conda/lib/python3.7/site-packages/sklearn/metrics/_classification.py:1268: UndefinedMetricWarning: Recall is ill-defined and being set to 0.0 due to no true samples. Use `zero_division` parameter to control this behavior.\n",
      "  _warn_prf(average, modifier, msg_start, len(result))\n",
      "/opt/conda/lib/python3.7/site-packages/sklearn/metrics/_classification.py:1268: UndefinedMetricWarning: Precision is ill-defined and being set to 0.0 due to no predicted samples. Use `zero_division` parameter to control this behavior.\n",
      "  _warn_prf(average, modifier, msg_start, len(result))\n"
     ]
    },
    {
     "name": "stdout",
     "output_type": "stream",
     "text": [
      "15/05/2020-00:11:37 | Specificity (metric) is valid only for binary classification problems. You have 1 classes.\n"
     ]
    },
    {
     "name": "stderr",
     "output_type": "stream",
     "text": [
      "/opt/conda/lib/python3.7/site-packages/sklearn/metrics/_classification.py:1268: UndefinedMetricWarning: Precision is ill-defined and being set to 0.0 due to no predicted samples. Use `zero_division` parameter to control this behavior.\n",
      "  _warn_prf(average, modifier, msg_start, len(result))\n",
      "/opt/conda/lib/python3.7/site-packages/sklearn/metrics/_classification.py:1268: UndefinedMetricWarning: Recall is ill-defined and being set to 0.0 due to no true samples. Use `zero_division` parameter to control this behavior.\n",
      "  _warn_prf(average, modifier, msg_start, len(result))\n"
     ]
    },
    {
     "name": "stdout",
     "output_type": "stream",
     "text": [
      "15/05/2020-00:11:42 | Specificity (metric) is valid only for binary classification problems. You have 1 classes.\n"
     ]
    },
    {
     "name": "stderr",
     "output_type": "stream",
     "text": [
      "/opt/conda/lib/python3.7/site-packages/sklearn/metrics/_classification.py:1268: UndefinedMetricWarning: Recall is ill-defined and being set to 0.0 due to no true samples. Use `zero_division` parameter to control this behavior.\n",
      "  _warn_prf(average, modifier, msg_start, len(result))\n"
     ]
    },
    {
     "name": "stdout",
     "output_type": "stream",
     "text": [
      "15/05/2020-00:11:44 | Computed configuration 5/20 in 0:00:11.734649\n",
      "15/05/2020-00:11:44 | Performance:             accuracy - Train: 1.0000, Validation: 0.6170\n",
      "15/05/2020-00:11:44 | Best Performance So Far: accuracy - Train: 1.0000, Validation: 0.6170\n",
      "---------------------------------------------------------------------------------------------------------------\n",
      "{\n",
      "    \"RandomForestClassifier\": [\n",
      "        \"n_estimators=16\"\n",
      "    ]\n",
      "}\n",
      "15/05/2020-00:11:44 | Specificity (metric) is valid only for binary classification problems. You have 1 classes.\n",
      "15/05/2020-00:11:44 | Specificity (metric) is valid only for binary classification problems. You have 1 classes.\n",
      "15/05/2020-00:11:44 | Computed configuration 6/20 in 0:00:00.163050\n",
      "15/05/2020-00:11:44 | Performance:             accuracy - Train: 1.0000, Validation: 0.6170\n",
      "15/05/2020-00:11:44 | Best Performance So Far: accuracy - Train: 1.0000, Validation: 0.6170\n",
      "---------------------------------------------------------------------------------------------------------------\n",
      "{\n",
      "    \"RandomForestClassifier\": [\n",
      "        \"n_estimators=1402\"\n",
      "    ]\n",
      "}\n"
     ]
    },
    {
     "name": "stderr",
     "output_type": "stream",
     "text": [
      "/opt/conda/lib/python3.7/site-packages/sklearn/metrics/_classification.py:1268: UndefinedMetricWarning: Precision is ill-defined and being set to 0.0 due to no predicted samples. Use `zero_division` parameter to control this behavior.\n",
      "  _warn_prf(average, modifier, msg_start, len(result))\n",
      "/opt/conda/lib/python3.7/site-packages/sklearn/metrics/_classification.py:1268: UndefinedMetricWarning: Precision is ill-defined and being set to 0.0 due to no predicted samples. Use `zero_division` parameter to control this behavior.\n",
      "  _warn_prf(average, modifier, msg_start, len(result))\n",
      "/opt/conda/lib/python3.7/site-packages/sklearn/metrics/_classification.py:1268: UndefinedMetricWarning: Recall is ill-defined and being set to 0.0 due to no true samples. Use `zero_division` parameter to control this behavior.\n",
      "  _warn_prf(average, modifier, msg_start, len(result))\n",
      "/opt/conda/lib/python3.7/site-packages/sklearn/metrics/_classification.py:1268: UndefinedMetricWarning: Recall is ill-defined and being set to 0.0 due to no true samples. Use `zero_division` parameter to control this behavior.\n",
      "  _warn_prf(average, modifier, msg_start, len(result))\n",
      "/opt/conda/lib/python3.7/site-packages/sklearn/metrics/_classification.py:1268: UndefinedMetricWarning: Precision is ill-defined and being set to 0.0 due to no predicted samples. Use `zero_division` parameter to control this behavior.\n",
      "  _warn_prf(average, modifier, msg_start, len(result))\n"
     ]
    },
    {
     "name": "stdout",
     "output_type": "stream",
     "text": [
      "15/05/2020-00:11:48 | Specificity (metric) is valid only for binary classification problems. You have 1 classes.\n"
     ]
    },
    {
     "name": "stderr",
     "output_type": "stream",
     "text": [
      "/opt/conda/lib/python3.7/site-packages/sklearn/metrics/_classification.py:1268: UndefinedMetricWarning: Precision is ill-defined and being set to 0.0 due to no predicted samples. Use `zero_division` parameter to control this behavior.\n",
      "  _warn_prf(average, modifier, msg_start, len(result))\n",
      "/opt/conda/lib/python3.7/site-packages/sklearn/metrics/_classification.py:1268: UndefinedMetricWarning: Recall is ill-defined and being set to 0.0 due to no true samples. Use `zero_division` parameter to control this behavior.\n",
      "  _warn_prf(average, modifier, msg_start, len(result))\n"
     ]
    },
    {
     "name": "stdout",
     "output_type": "stream",
     "text": [
      "15/05/2020-00:11:51 | Specificity (metric) is valid only for binary classification problems. You have 1 classes.\n"
     ]
    },
    {
     "name": "stderr",
     "output_type": "stream",
     "text": [
      "/opt/conda/lib/python3.7/site-packages/sklearn/metrics/_classification.py:1268: UndefinedMetricWarning: Recall is ill-defined and being set to 0.0 due to no true samples. Use `zero_division` parameter to control this behavior.\n",
      "  _warn_prf(average, modifier, msg_start, len(result))\n"
     ]
    },
    {
     "name": "stdout",
     "output_type": "stream",
     "text": [
      "15/05/2020-00:11:53 | Computed configuration 7/20 in 0:00:08.820809\n",
      "15/05/2020-00:11:53 | Performance:             accuracy - Train: 1.0000, Validation: 0.6170\n",
      "15/05/2020-00:11:53 | Best Performance So Far: accuracy - Train: 1.0000, Validation: 0.6170\n",
      "---------------------------------------------------------------------------------------------------------------\n",
      "{\n",
      "    \"RandomForestClassifier\": [\n",
      "        \"n_estimators=957\"\n",
      "    ]\n",
      "}\n"
     ]
    },
    {
     "name": "stderr",
     "output_type": "stream",
     "text": [
      "/opt/conda/lib/python3.7/site-packages/sklearn/metrics/_classification.py:1268: UndefinedMetricWarning: Precision is ill-defined and being set to 0.0 due to no predicted samples. Use `zero_division` parameter to control this behavior.\n",
      "  _warn_prf(average, modifier, msg_start, len(result))\n"
     ]
    },
    {
     "name": "stdout",
     "output_type": "stream",
     "text": [
      "15/05/2020-00:11:55 | Specificity (metric) is valid only for binary classification problems. You have 1 classes.\n"
     ]
    },
    {
     "name": "stderr",
     "output_type": "stream",
     "text": [
      "/opt/conda/lib/python3.7/site-packages/sklearn/metrics/_classification.py:1268: UndefinedMetricWarning: Precision is ill-defined and being set to 0.0 due to no predicted samples. Use `zero_division` parameter to control this behavior.\n",
      "  _warn_prf(average, modifier, msg_start, len(result))\n",
      "/opt/conda/lib/python3.7/site-packages/sklearn/metrics/_classification.py:1268: UndefinedMetricWarning: Recall is ill-defined and being set to 0.0 due to no true samples. Use `zero_division` parameter to control this behavior.\n",
      "  _warn_prf(average, modifier, msg_start, len(result))\n"
     ]
    },
    {
     "name": "stdout",
     "output_type": "stream",
     "text": [
      "15/05/2020-00:11:58 | Specificity (metric) is valid only for binary classification problems. You have 1 classes.\n"
     ]
    },
    {
     "name": "stderr",
     "output_type": "stream",
     "text": [
      "/opt/conda/lib/python3.7/site-packages/sklearn/metrics/_classification.py:1268: UndefinedMetricWarning: Recall is ill-defined and being set to 0.0 due to no true samples. Use `zero_division` parameter to control this behavior.\n",
      "  _warn_prf(average, modifier, msg_start, len(result))\n"
     ]
    },
    {
     "name": "stdout",
     "output_type": "stream",
     "text": [
      "15/05/2020-00:11:59 | Computed configuration 8/20 in 0:00:06.023857\n",
      "15/05/2020-00:11:59 | Performance:             accuracy - Train: 1.0000, Validation: 0.6170\n",
      "15/05/2020-00:11:59 | Best Performance So Far: accuracy - Train: 1.0000, Validation: 0.6170\n",
      "---------------------------------------------------------------------------------------------------------------\n",
      "{\n",
      "    \"RandomForestClassifier\": [\n",
      "        \"n_estimators=1671\"\n",
      "    ]\n",
      "}\n"
     ]
    },
    {
     "name": "stderr",
     "output_type": "stream",
     "text": [
      "/opt/conda/lib/python3.7/site-packages/sklearn/metrics/_classification.py:1268: UndefinedMetricWarning: Precision is ill-defined and being set to 0.0 due to no predicted samples. Use `zero_division` parameter to control this behavior.\n",
      "  _warn_prf(average, modifier, msg_start, len(result))\n"
     ]
    },
    {
     "name": "stdout",
     "output_type": "stream",
     "text": [
      "15/05/2020-00:12:03 | Specificity (metric) is valid only for binary classification problems. You have 1 classes.\n"
     ]
    },
    {
     "name": "stderr",
     "output_type": "stream",
     "text": [
      "/opt/conda/lib/python3.7/site-packages/sklearn/metrics/_classification.py:1268: UndefinedMetricWarning: Precision is ill-defined and being set to 0.0 due to no predicted samples. Use `zero_division` parameter to control this behavior.\n",
      "  _warn_prf(average, modifier, msg_start, len(result))\n",
      "/opt/conda/lib/python3.7/site-packages/sklearn/metrics/_classification.py:1268: UndefinedMetricWarning: Recall is ill-defined and being set to 0.0 due to no true samples. Use `zero_division` parameter to control this behavior.\n",
      "  _warn_prf(average, modifier, msg_start, len(result))\n"
     ]
    },
    {
     "name": "stdout",
     "output_type": "stream",
     "text": [
      "15/05/2020-00:12:08 | Specificity (metric) is valid only for binary classification problems. You have 1 classes.\n"
     ]
    },
    {
     "name": "stderr",
     "output_type": "stream",
     "text": [
      "/opt/conda/lib/python3.7/site-packages/sklearn/metrics/_classification.py:1268: UndefinedMetricWarning: Recall is ill-defined and being set to 0.0 due to no true samples. Use `zero_division` parameter to control this behavior.\n",
      "  _warn_prf(average, modifier, msg_start, len(result))\n"
     ]
    },
    {
     "name": "stdout",
     "output_type": "stream",
     "text": [
      "15/05/2020-00:12:09 | Computed configuration 9/20 in 0:00:10.450278\n",
      "15/05/2020-00:12:09 | Performance:             accuracy - Train: 1.0000, Validation: 0.6170\n",
      "15/05/2020-00:12:09 | Best Performance So Far: accuracy - Train: 1.0000, Validation: 0.6170\n",
      "---------------------------------------------------------------------------------------------------------------\n",
      "{\n",
      "    \"RandomForestClassifier\": [\n",
      "        \"n_estimators=1830\"\n",
      "    ]\n",
      "}\n"
     ]
    },
    {
     "name": "stderr",
     "output_type": "stream",
     "text": [
      "/opt/conda/lib/python3.7/site-packages/sklearn/metrics/_classification.py:1268: UndefinedMetricWarning: Precision is ill-defined and being set to 0.0 due to no predicted samples. Use `zero_division` parameter to control this behavior.\n",
      "  _warn_prf(average, modifier, msg_start, len(result))\n"
     ]
    },
    {
     "name": "stdout",
     "output_type": "stream",
     "text": [
      "15/05/2020-00:12:14 | Specificity (metric) is valid only for binary classification problems. You have 1 classes.\n"
     ]
    },
    {
     "name": "stderr",
     "output_type": "stream",
     "text": [
      "/opt/conda/lib/python3.7/site-packages/sklearn/metrics/_classification.py:1268: UndefinedMetricWarning: Precision is ill-defined and being set to 0.0 due to no predicted samples. Use `zero_division` parameter to control this behavior.\n",
      "  _warn_prf(average, modifier, msg_start, len(result))\n",
      "/opt/conda/lib/python3.7/site-packages/sklearn/metrics/_classification.py:1268: UndefinedMetricWarning: Recall is ill-defined and being set to 0.0 due to no true samples. Use `zero_division` parameter to control this behavior.\n",
      "  _warn_prf(average, modifier, msg_start, len(result))\n"
     ]
    },
    {
     "name": "stdout",
     "output_type": "stream",
     "text": [
      "15/05/2020-00:12:19 | Specificity (metric) is valid only for binary classification problems. You have 1 classes.\n"
     ]
    },
    {
     "name": "stderr",
     "output_type": "stream",
     "text": [
      "/opt/conda/lib/python3.7/site-packages/sklearn/metrics/_classification.py:1268: UndefinedMetricWarning: Recall is ill-defined and being set to 0.0 due to no true samples. Use `zero_division` parameter to control this behavior.\n",
      "  _warn_prf(average, modifier, msg_start, len(result))\n"
     ]
    },
    {
     "name": "stdout",
     "output_type": "stream",
     "text": [
      "15/05/2020-00:12:21 | Computed configuration 10/20 in 0:00:11.427959\n",
      "15/05/2020-00:12:21 | Performance:             accuracy - Train: 1.0000, Validation: 0.6170\n",
      "15/05/2020-00:12:21 | Best Performance So Far: accuracy - Train: 1.0000, Validation: 0.6170\n",
      "---------------------------------------------------------------------------------------------------------------\n",
      "{\n",
      "    \"RandomForestClassifier\": [\n",
      "        \"n_estimators=49\"\n",
      "    ]\n",
      "}\n",
      "15/05/2020-00:12:21 | Specificity (metric) is valid only for binary classification problems. You have 1 classes.\n",
      "15/05/2020-00:12:21 | Specificity (metric) is valid only for binary classification problems. You have 1 classes.\n"
     ]
    },
    {
     "name": "stderr",
     "output_type": "stream",
     "text": [
      "/opt/conda/lib/python3.7/site-packages/sklearn/metrics/_classification.py:1268: UndefinedMetricWarning: Precision is ill-defined and being set to 0.0 due to no predicted samples. Use `zero_division` parameter to control this behavior.\n",
      "  _warn_prf(average, modifier, msg_start, len(result))\n",
      "/opt/conda/lib/python3.7/site-packages/sklearn/metrics/_classification.py:1268: UndefinedMetricWarning: Precision is ill-defined and being set to 0.0 due to no predicted samples. Use `zero_division` parameter to control this behavior.\n",
      "  _warn_prf(average, modifier, msg_start, len(result))\n",
      "/opt/conda/lib/python3.7/site-packages/sklearn/metrics/_classification.py:1268: UndefinedMetricWarning: Recall is ill-defined and being set to 0.0 due to no true samples. Use `zero_division` parameter to control this behavior.\n",
      "  _warn_prf(average, modifier, msg_start, len(result))\n",
      "/opt/conda/lib/python3.7/site-packages/sklearn/metrics/_classification.py:1268: UndefinedMetricWarning: Recall is ill-defined and being set to 0.0 due to no true samples. Use `zero_division` parameter to control this behavior.\n",
      "  _warn_prf(average, modifier, msg_start, len(result))\n"
     ]
    },
    {
     "name": "stdout",
     "output_type": "stream",
     "text": [
      "15/05/2020-00:12:21 | Computed configuration 11/20 in 0:00:00.369618\n",
      "15/05/2020-00:12:21 | Performance:             accuracy - Train: 1.0000, Validation: 0.6170\n",
      "15/05/2020-00:12:21 | Best Performance So Far: accuracy - Train: 1.0000, Validation: 0.6170\n",
      "---------------------------------------------------------------------------------------------------------------\n",
      "{\n",
      "    \"RandomForestClassifier\": [\n",
      "        \"n_estimators=566\"\n",
      "    ]\n",
      "}\n",
      "15/05/2020-00:12:23 | Specificity (metric) is valid only for binary classification problems. You have 1 classes.\n"
     ]
    },
    {
     "name": "stderr",
     "output_type": "stream",
     "text": [
      "/opt/conda/lib/python3.7/site-packages/sklearn/metrics/_classification.py:1268: UndefinedMetricWarning: Precision is ill-defined and being set to 0.0 due to no predicted samples. Use `zero_division` parameter to control this behavior.\n",
      "  _warn_prf(average, modifier, msg_start, len(result))\n",
      "/opt/conda/lib/python3.7/site-packages/sklearn/metrics/_classification.py:1268: UndefinedMetricWarning: Precision is ill-defined and being set to 0.0 due to no predicted samples. Use `zero_division` parameter to control this behavior.\n",
      "  _warn_prf(average, modifier, msg_start, len(result))\n",
      "/opt/conda/lib/python3.7/site-packages/sklearn/metrics/_classification.py:1268: UndefinedMetricWarning: Recall is ill-defined and being set to 0.0 due to no true samples. Use `zero_division` parameter to control this behavior.\n",
      "  _warn_prf(average, modifier, msg_start, len(result))\n"
     ]
    },
    {
     "name": "stdout",
     "output_type": "stream",
     "text": [
      "15/05/2020-00:12:25 | Specificity (metric) is valid only for binary classification problems. You have 1 classes.\n"
     ]
    },
    {
     "name": "stderr",
     "output_type": "stream",
     "text": [
      "/opt/conda/lib/python3.7/site-packages/sklearn/metrics/_classification.py:1268: UndefinedMetricWarning: Recall is ill-defined and being set to 0.0 due to no true samples. Use `zero_division` parameter to control this behavior.\n",
      "  _warn_prf(average, modifier, msg_start, len(result))\n"
     ]
    },
    {
     "name": "stdout",
     "output_type": "stream",
     "text": [
      "15/05/2020-00:12:25 | Computed configuration 12/20 in 0:00:03.514322\n",
      "15/05/2020-00:12:25 | Performance:             accuracy - Train: 1.0000, Validation: 0.6170\n",
      "15/05/2020-00:12:25 | Best Performance So Far: accuracy - Train: 1.0000, Validation: 0.6170\n",
      "---------------------------------------------------------------------------------------------------------------\n",
      "{\n",
      "    \"RandomForestClassifier\": [\n",
      "        \"n_estimators=1209\"\n",
      "    ]\n",
      "}\n"
     ]
    },
    {
     "name": "stderr",
     "output_type": "stream",
     "text": [
      "/opt/conda/lib/python3.7/site-packages/sklearn/metrics/_classification.py:1268: UndefinedMetricWarning: Precision is ill-defined and being set to 0.0 due to no predicted samples. Use `zero_division` parameter to control this behavior.\n",
      "  _warn_prf(average, modifier, msg_start, len(result))\n"
     ]
    },
    {
     "name": "stdout",
     "output_type": "stream",
     "text": [
      "15/05/2020-00:12:29 | Specificity (metric) is valid only for binary classification problems. You have 1 classes.\n"
     ]
    },
    {
     "name": "stderr",
     "output_type": "stream",
     "text": [
      "/opt/conda/lib/python3.7/site-packages/sklearn/metrics/_classification.py:1268: UndefinedMetricWarning: Precision is ill-defined and being set to 0.0 due to no predicted samples. Use `zero_division` parameter to control this behavior.\n",
      "  _warn_prf(average, modifier, msg_start, len(result))\n",
      "/opt/conda/lib/python3.7/site-packages/sklearn/metrics/_classification.py:1268: UndefinedMetricWarning: Recall is ill-defined and being set to 0.0 due to no true samples. Use `zero_division` parameter to control this behavior.\n",
      "  _warn_prf(average, modifier, msg_start, len(result))\n"
     ]
    },
    {
     "name": "stdout",
     "output_type": "stream",
     "text": [
      "15/05/2020-00:12:32 | Specificity (metric) is valid only for binary classification problems. You have 1 classes.\n"
     ]
    },
    {
     "name": "stderr",
     "output_type": "stream",
     "text": [
      "/opt/conda/lib/python3.7/site-packages/sklearn/metrics/_classification.py:1268: UndefinedMetricWarning: Recall is ill-defined and being set to 0.0 due to no true samples. Use `zero_division` parameter to control this behavior.\n",
      "  _warn_prf(average, modifier, msg_start, len(result))\n"
     ]
    },
    {
     "name": "stdout",
     "output_type": "stream",
     "text": [
      "15/05/2020-00:12:33 | Computed configuration 13/20 in 0:00:07.574425\n",
      "15/05/2020-00:12:33 | Performance:             accuracy - Train: 1.0000, Validation: 0.6170\n",
      "15/05/2020-00:12:33 | Best Performance So Far: accuracy - Train: 1.0000, Validation: 0.6170\n",
      "---------------------------------------------------------------------------------------------------------------\n",
      "{\n",
      "    \"RandomForestClassifier\": [\n",
      "        \"n_estimators=542\"\n",
      "    ]\n",
      "}\n",
      "15/05/2020-00:12:35 | Specificity (metric) is valid only for binary classification problems. You have 1 classes.\n"
     ]
    },
    {
     "name": "stderr",
     "output_type": "stream",
     "text": [
      "/opt/conda/lib/python3.7/site-packages/sklearn/metrics/_classification.py:1268: UndefinedMetricWarning: Precision is ill-defined and being set to 0.0 due to no predicted samples. Use `zero_division` parameter to control this behavior.\n",
      "  _warn_prf(average, modifier, msg_start, len(result))\n",
      "/opt/conda/lib/python3.7/site-packages/sklearn/metrics/_classification.py:1268: UndefinedMetricWarning: Precision is ill-defined and being set to 0.0 due to no predicted samples. Use `zero_division` parameter to control this behavior.\n",
      "  _warn_prf(average, modifier, msg_start, len(result))\n",
      "/opt/conda/lib/python3.7/site-packages/sklearn/metrics/_classification.py:1268: UndefinedMetricWarning: Recall is ill-defined and being set to 0.0 due to no true samples. Use `zero_division` parameter to control this behavior.\n",
      "  _warn_prf(average, modifier, msg_start, len(result))\n"
     ]
    },
    {
     "name": "stdout",
     "output_type": "stream",
     "text": [
      "15/05/2020-00:12:37 | Specificity (metric) is valid only for binary classification problems. You have 1 classes.\n"
     ]
    },
    {
     "name": "stderr",
     "output_type": "stream",
     "text": [
      "/opt/conda/lib/python3.7/site-packages/sklearn/metrics/_classification.py:1268: UndefinedMetricWarning: Recall is ill-defined and being set to 0.0 due to no true samples. Use `zero_division` parameter to control this behavior.\n",
      "  _warn_prf(average, modifier, msg_start, len(result))\n"
     ]
    },
    {
     "name": "stdout",
     "output_type": "stream",
     "text": [
      "15/05/2020-00:12:37 | Computed configuration 14/20 in 0:00:03.394422\n",
      "15/05/2020-00:12:37 | Performance:             accuracy - Train: 1.0000, Validation: 0.6170\n",
      "15/05/2020-00:12:37 | Best Performance So Far: accuracy - Train: 1.0000, Validation: 0.6170\n",
      "---------------------------------------------------------------------------------------------------------------\n",
      "{\n",
      "    \"RandomForestClassifier\": [\n",
      "        \"n_estimators=514\"\n",
      "    ]\n",
      "}\n",
      "15/05/2020-00:12:39 | Specificity (metric) is valid only for binary classification problems. You have 1 classes.\n"
     ]
    },
    {
     "name": "stderr",
     "output_type": "stream",
     "text": [
      "/opt/conda/lib/python3.7/site-packages/sklearn/metrics/_classification.py:1268: UndefinedMetricWarning: Precision is ill-defined and being set to 0.0 due to no predicted samples. Use `zero_division` parameter to control this behavior.\n",
      "  _warn_prf(average, modifier, msg_start, len(result))\n",
      "/opt/conda/lib/python3.7/site-packages/sklearn/metrics/_classification.py:1268: UndefinedMetricWarning: Precision is ill-defined and being set to 0.0 due to no predicted samples. Use `zero_division` parameter to control this behavior.\n",
      "  _warn_prf(average, modifier, msg_start, len(result))\n",
      "/opt/conda/lib/python3.7/site-packages/sklearn/metrics/_classification.py:1268: UndefinedMetricWarning: Recall is ill-defined and being set to 0.0 due to no true samples. Use `zero_division` parameter to control this behavior.\n",
      "  _warn_prf(average, modifier, msg_start, len(result))\n"
     ]
    },
    {
     "name": "stdout",
     "output_type": "stream",
     "text": [
      "15/05/2020-00:12:40 | Specificity (metric) is valid only for binary classification problems. You have 1 classes.\n"
     ]
    },
    {
     "name": "stderr",
     "output_type": "stream",
     "text": [
      "/opt/conda/lib/python3.7/site-packages/sklearn/metrics/_classification.py:1268: UndefinedMetricWarning: Recall is ill-defined and being set to 0.0 due to no true samples. Use `zero_division` parameter to control this behavior.\n",
      "  _warn_prf(average, modifier, msg_start, len(result))\n"
     ]
    },
    {
     "name": "stdout",
     "output_type": "stream",
     "text": [
      "15/05/2020-00:12:41 | Computed configuration 15/20 in 0:00:03.238765\n",
      "15/05/2020-00:12:41 | Performance:             accuracy - Train: 1.0000, Validation: 0.6170\n",
      "15/05/2020-00:12:41 | Best Performance So Far: accuracy - Train: 1.0000, Validation: 0.6170\n",
      "---------------------------------------------------------------------------------------------------------------\n",
      "{\n",
      "    \"RandomForestClassifier\": [\n",
      "        \"n_estimators=1000\"\n",
      "    ]\n",
      "}\n"
     ]
    },
    {
     "name": "stderr",
     "output_type": "stream",
     "text": [
      "/opt/conda/lib/python3.7/site-packages/sklearn/metrics/_classification.py:1268: UndefinedMetricWarning: Precision is ill-defined and being set to 0.0 due to no predicted samples. Use `zero_division` parameter to control this behavior.\n",
      "  _warn_prf(average, modifier, msg_start, len(result))\n"
     ]
    },
    {
     "name": "stdout",
     "output_type": "stream",
     "text": [
      "15/05/2020-00:12:44 | Specificity (metric) is valid only for binary classification problems. You have 1 classes.\n"
     ]
    },
    {
     "name": "stderr",
     "output_type": "stream",
     "text": [
      "/opt/conda/lib/python3.7/site-packages/sklearn/metrics/_classification.py:1268: UndefinedMetricWarning: Precision is ill-defined and being set to 0.0 due to no predicted samples. Use `zero_division` parameter to control this behavior.\n",
      "  _warn_prf(average, modifier, msg_start, len(result))\n",
      "/opt/conda/lib/python3.7/site-packages/sklearn/metrics/_classification.py:1268: UndefinedMetricWarning: Recall is ill-defined and being set to 0.0 due to no true samples. Use `zero_division` parameter to control this behavior.\n",
      "  _warn_prf(average, modifier, msg_start, len(result))\n"
     ]
    },
    {
     "name": "stdout",
     "output_type": "stream",
     "text": [
      "15/05/2020-00:12:47 | Specificity (metric) is valid only for binary classification problems. You have 1 classes.\n"
     ]
    },
    {
     "name": "stderr",
     "output_type": "stream",
     "text": [
      "/opt/conda/lib/python3.7/site-packages/sklearn/metrics/_classification.py:1268: UndefinedMetricWarning: Recall is ill-defined and being set to 0.0 due to no true samples. Use `zero_division` parameter to control this behavior.\n",
      "  _warn_prf(average, modifier, msg_start, len(result))\n"
     ]
    },
    {
     "name": "stdout",
     "output_type": "stream",
     "text": [
      "15/05/2020-00:12:48 | Computed configuration 16/20 in 0:00:06.170659\n",
      "15/05/2020-00:12:48 | Performance:             accuracy - Train: 1.0000, Validation: 0.6170\n",
      "15/05/2020-00:12:48 | Best Performance So Far: accuracy - Train: 1.0000, Validation: 0.6170\n",
      "---------------------------------------------------------------------------------------------------------------\n",
      "{\n",
      "    \"RandomForestClassifier\": [\n",
      "        \"n_estimators=1112\"\n",
      "    ]\n",
      "}\n"
     ]
    },
    {
     "name": "stderr",
     "output_type": "stream",
     "text": [
      "/opt/conda/lib/python3.7/site-packages/sklearn/metrics/_classification.py:1268: UndefinedMetricWarning: Precision is ill-defined and being set to 0.0 due to no predicted samples. Use `zero_division` parameter to control this behavior.\n",
      "  _warn_prf(average, modifier, msg_start, len(result))\n"
     ]
    },
    {
     "name": "stdout",
     "output_type": "stream",
     "text": [
      "15/05/2020-00:12:51 | Specificity (metric) is valid only for binary classification problems. You have 1 classes.\n"
     ]
    },
    {
     "name": "stderr",
     "output_type": "stream",
     "text": [
      "/opt/conda/lib/python3.7/site-packages/sklearn/metrics/_classification.py:1268: UndefinedMetricWarning: Precision is ill-defined and being set to 0.0 due to no predicted samples. Use `zero_division` parameter to control this behavior.\n",
      "  _warn_prf(average, modifier, msg_start, len(result))\n",
      "/opt/conda/lib/python3.7/site-packages/sklearn/metrics/_classification.py:1268: UndefinedMetricWarning: Recall is ill-defined and being set to 0.0 due to no true samples. Use `zero_division` parameter to control this behavior.\n",
      "  _warn_prf(average, modifier, msg_start, len(result))\n"
     ]
    },
    {
     "name": "stdout",
     "output_type": "stream",
     "text": [
      "15/05/2020-00:12:54 | Specificity (metric) is valid only for binary classification problems. You have 1 classes.\n"
     ]
    },
    {
     "name": "stderr",
     "output_type": "stream",
     "text": [
      "/opt/conda/lib/python3.7/site-packages/sklearn/metrics/_classification.py:1268: UndefinedMetricWarning: Recall is ill-defined and being set to 0.0 due to no true samples. Use `zero_division` parameter to control this behavior.\n",
      "  _warn_prf(average, modifier, msg_start, len(result))\n"
     ]
    },
    {
     "name": "stdout",
     "output_type": "stream",
     "text": [
      "15/05/2020-00:12:55 | Computed configuration 17/20 in 0:00:06.924948\n",
      "15/05/2020-00:12:55 | Performance:             accuracy - Train: 1.0000, Validation: 0.6170\n",
      "15/05/2020-00:12:55 | Best Performance So Far: accuracy - Train: 1.0000, Validation: 0.6170\n",
      "---------------------------------------------------------------------------------------------------------------\n",
      "{\n",
      "    \"RandomForestClassifier\": [\n",
      "        \"n_estimators=984\"\n",
      "    ]\n",
      "}\n"
     ]
    },
    {
     "name": "stderr",
     "output_type": "stream",
     "text": [
      "/opt/conda/lib/python3.7/site-packages/sklearn/metrics/_classification.py:1268: UndefinedMetricWarning: Precision is ill-defined and being set to 0.0 due to no predicted samples. Use `zero_division` parameter to control this behavior.\n",
      "  _warn_prf(average, modifier, msg_start, len(result))\n"
     ]
    },
    {
     "name": "stdout",
     "output_type": "stream",
     "text": [
      "15/05/2020-00:12:58 | Specificity (metric) is valid only for binary classification problems. You have 1 classes.\n"
     ]
    },
    {
     "name": "stderr",
     "output_type": "stream",
     "text": [
      "/opt/conda/lib/python3.7/site-packages/sklearn/metrics/_classification.py:1268: UndefinedMetricWarning: Precision is ill-defined and being set to 0.0 due to no predicted samples. Use `zero_division` parameter to control this behavior.\n",
      "  _warn_prf(average, modifier, msg_start, len(result))\n",
      "/opt/conda/lib/python3.7/site-packages/sklearn/metrics/_classification.py:1268: UndefinedMetricWarning: Recall is ill-defined and being set to 0.0 due to no true samples. Use `zero_division` parameter to control this behavior.\n",
      "  _warn_prf(average, modifier, msg_start, len(result))\n"
     ]
    },
    {
     "name": "stdout",
     "output_type": "stream",
     "text": [
      "15/05/2020-00:13:01 | Specificity (metric) is valid only for binary classification problems. You have 1 classes.\n"
     ]
    },
    {
     "name": "stderr",
     "output_type": "stream",
     "text": [
      "/opt/conda/lib/python3.7/site-packages/sklearn/metrics/_classification.py:1268: UndefinedMetricWarning: Recall is ill-defined and being set to 0.0 due to no true samples. Use `zero_division` parameter to control this behavior.\n",
      "  _warn_prf(average, modifier, msg_start, len(result))\n"
     ]
    },
    {
     "name": "stdout",
     "output_type": "stream",
     "text": [
      "15/05/2020-00:13:02 | Computed configuration 18/20 in 0:00:06.153200\n",
      "15/05/2020-00:13:02 | Performance:             accuracy - Train: 1.0000, Validation: 0.6170\n",
      "15/05/2020-00:13:02 | Best Performance So Far: accuracy - Train: 1.0000, Validation: 0.6170\n",
      "---------------------------------------------------------------------------------------------------------------\n",
      "{\n",
      "    \"RandomForestClassifier\": [\n",
      "        \"n_estimators=1210\"\n",
      "    ]\n",
      "}\n"
     ]
    },
    {
     "name": "stderr",
     "output_type": "stream",
     "text": [
      "/opt/conda/lib/python3.7/site-packages/sklearn/metrics/_classification.py:1268: UndefinedMetricWarning: Precision is ill-defined and being set to 0.0 due to no predicted samples. Use `zero_division` parameter to control this behavior.\n",
      "  _warn_prf(average, modifier, msg_start, len(result))\n"
     ]
    },
    {
     "name": "stdout",
     "output_type": "stream",
     "text": [
      "15/05/2020-00:13:05 | Specificity (metric) is valid only for binary classification problems. You have 1 classes.\n"
     ]
    },
    {
     "name": "stderr",
     "output_type": "stream",
     "text": [
      "/opt/conda/lib/python3.7/site-packages/sklearn/metrics/_classification.py:1268: UndefinedMetricWarning: Precision is ill-defined and being set to 0.0 due to no predicted samples. Use `zero_division` parameter to control this behavior.\n",
      "  _warn_prf(average, modifier, msg_start, len(result))\n",
      "/opt/conda/lib/python3.7/site-packages/sklearn/metrics/_classification.py:1268: UndefinedMetricWarning: Recall is ill-defined and being set to 0.0 due to no true samples. Use `zero_division` parameter to control this behavior.\n",
      "  _warn_prf(average, modifier, msg_start, len(result))\n"
     ]
    },
    {
     "name": "stdout",
     "output_type": "stream",
     "text": [
      "15/05/2020-00:13:08 | Specificity (metric) is valid only for binary classification problems. You have 1 classes.\n"
     ]
    },
    {
     "name": "stderr",
     "output_type": "stream",
     "text": [
      "/opt/conda/lib/python3.7/site-packages/sklearn/metrics/_classification.py:1268: UndefinedMetricWarning: Recall is ill-defined and being set to 0.0 due to no true samples. Use `zero_division` parameter to control this behavior.\n",
      "  _warn_prf(average, modifier, msg_start, len(result))\n"
     ]
    },
    {
     "name": "stdout",
     "output_type": "stream",
     "text": [
      "15/05/2020-00:13:10 | Computed configuration 19/20 in 0:00:07.558859\n",
      "15/05/2020-00:13:10 | Performance:             accuracy - Train: 1.0000, Validation: 0.6170\n",
      "15/05/2020-00:13:10 | Best Performance So Far: accuracy - Train: 1.0000, Validation: 0.6170\n",
      "---------------------------------------------------------------------------------------------------------------\n",
      "{\n",
      "    \"RandomForestClassifier\": [\n",
      "        \"n_estimators=109\"\n",
      "    ]\n",
      "}\n",
      "15/05/2020-00:13:10 | Specificity (metric) is valid only for binary classification problems. You have 1 classes.\n"
     ]
    },
    {
     "name": "stderr",
     "output_type": "stream",
     "text": [
      "/opt/conda/lib/python3.7/site-packages/sklearn/metrics/_classification.py:1268: UndefinedMetricWarning: Precision is ill-defined and being set to 0.0 due to no predicted samples. Use `zero_division` parameter to control this behavior.\n",
      "  _warn_prf(average, modifier, msg_start, len(result))\n",
      "/opt/conda/lib/python3.7/site-packages/sklearn/metrics/_classification.py:1268: UndefinedMetricWarning: Precision is ill-defined and being set to 0.0 due to no predicted samples. Use `zero_division` parameter to control this behavior.\n",
      "  _warn_prf(average, modifier, msg_start, len(result))\n",
      "/opt/conda/lib/python3.7/site-packages/sklearn/metrics/_classification.py:1268: UndefinedMetricWarning: Recall is ill-defined and being set to 0.0 due to no true samples. Use `zero_division` parameter to control this behavior.\n",
      "  _warn_prf(average, modifier, msg_start, len(result))\n"
     ]
    },
    {
     "name": "stdout",
     "output_type": "stream",
     "text": [
      "15/05/2020-00:13:11 | Specificity (metric) is valid only for binary classification problems. You have 1 classes.\n",
      "15/05/2020-00:13:11 | Computed configuration 20/20 in 0:00:00.749921\n",
      "15/05/2020-00:13:11 | Performance:             accuracy - Train: 1.0000, Validation: 0.6170\n",
      "15/05/2020-00:13:11 | Best Performance So Far: accuracy - Train: 1.0000, Validation: 0.6170\n"
     ]
    },
    {
     "name": "stderr",
     "output_type": "stream",
     "text": [
      "/opt/conda/lib/python3.7/site-packages/sklearn/metrics/_classification.py:1268: UndefinedMetricWarning: Recall is ill-defined and being set to 0.0 due to no true samples. Use `zero_division` parameter to control this behavior.\n",
      "  _warn_prf(average, modifier, msg_start, len(result))\n"
     ]
    },
    {
     "name": "stdout",
     "output_type": "stream",
     "text": [
      "---------------------------------------------------------------------------------------------------------------\n",
      "15/05/2020-00:13:11 | Hyperparameter Optimization finished. Now finding best configuration .... \n",
      "15/05/2020-00:13:11 | Number of tested configurations: 20\n",
      "---------------------------------------------------------------------------------------------------------------\n",
      "BEST_CONFIG \n",
      "---------------------------------------------------------------------------------------------------------------\n",
      "{\n",
      "    \"RandomForestClassifier\": [\n",
      "        \"n_estimators=850\"\n",
      "    ]\n",
      "}\n",
      "15/05/2020-00:13:13 | Calculating best model performance on test set...\n",
      "Target is multiclass but average='binary'. Please choose another average setting, one of [None, 'micro', 'macro', 'weighted'].\n",
      "Traceback (most recent call last):\n",
      "  File \"/docker/photon/photonai/base/hyperpipe.py\", line 1192, in fit\n",
      "    self.data.X, self.data.y, **self.data.kwargs\n",
      "  File \"/docker/photon/photonai/processing/outer_folds.py\", line 358, in fit\n",
      "    **self._test_kwargs\n",
      "  File \"/docker/photon/photonai/processing/inner_folds.py\", line 421, in score\n",
      "    y_true, y_pred, non_default_score_metrics\n",
      "  File \"/docker/photon/photonai/processing/metrics.py\", line 412, in calculate_metrics\n",
      "    output_metrics[metric] = Scorer.create(metric)(y_true, y_pred)\n",
      "  File \"/opt/conda/lib/python3.7/site-packages/sklearn/metrics/_classification.py\", line 1668, in precision_score\n",
      "    zero_division=zero_division)\n",
      "  File \"/opt/conda/lib/python3.7/site-packages/sklearn/metrics/_classification.py\", line 1480, in precision_recall_fscore_support\n",
      "    pos_label)\n",
      "  File \"/opt/conda/lib/python3.7/site-packages/sklearn/metrics/_classification.py\", line 1312, in _check_set_wise_labels\n",
      "    % (y_type, average_options))\n",
      "ValueError: Target is multiclass but average='binary'. Please choose another average setting, one of [None, 'micro', 'macro', 'weighted'].\n",
      "\n"
     ]
    },
    {
     "name": "stderr",
     "output_type": "stream",
     "text": [
      "Traceback (most recent call last):\n",
      "  File \"/docker/photon/photonai/base/hyperpipe.py\", line 1192, in fit\n",
      "    self.data.X, self.data.y, **self.data.kwargs\n",
      "  File \"/docker/photon/photonai/processing/outer_folds.py\", line 358, in fit\n",
      "    **self._test_kwargs\n",
      "  File \"/docker/photon/photonai/processing/inner_folds.py\", line 421, in score\n",
      "    y_true, y_pred, non_default_score_metrics\n",
      "  File \"/docker/photon/photonai/processing/metrics.py\", line 412, in calculate_metrics\n",
      "    output_metrics[metric] = Scorer.create(metric)(y_true, y_pred)\n",
      "  File \"/opt/conda/lib/python3.7/site-packages/sklearn/metrics/_classification.py\", line 1668, in precision_score\n",
      "    zero_division=zero_division)\n",
      "  File \"/opt/conda/lib/python3.7/site-packages/sklearn/metrics/_classification.py\", line 1480, in precision_recall_fscore_support\n",
      "    pos_label)\n",
      "  File \"/opt/conda/lib/python3.7/site-packages/sklearn/metrics/_classification.py\", line 1312, in _check_set_wise_labels\n",
      "    % (y_type, average_options))\n",
      "ValueError: Target is multiclass but average='binary'. Please choose another average setting, one of [None, 'micro', 'macro', 'weighted'].\n"
     ]
    },
    {
     "ename": "ValueError",
     "evalue": "Target is multiclass but average='binary'. Please choose another average setting, one of [None, 'micro', 'macro', 'weighted'].",
     "output_type": "error",
     "traceback": [
      "\u001b[0;31m---------------------------------------------------------------------------\u001b[0m",
      "\u001b[0;31mValueError\u001b[0m                                Traceback (most recent call last)",
      "\u001b[0;32mexp1.log\u001b[0m in \u001b[0;36m<module>\u001b[0;34m\u001b[0m\n\u001b[1;32m     32\u001b[0m \u001b[0;34m\u001b[0m\u001b[0m\n\u001b[1;32m     33\u001b[0m \u001b[0;31m# NOW TRAIN YOUR PIPELINE\u001b[0m\u001b[0;34m\u001b[0m\u001b[0;34m\u001b[0m\u001b[0;34m\u001b[0m\u001b[0m\n\u001b[0;32m---> 34\u001b[0;31m \u001b[0mmy_pipe\u001b[0m\u001b[0;34m.\u001b[0m\u001b[0mfit\u001b[0m\u001b[0;34m(\u001b[0m\u001b[0mX\u001b[0m\u001b[0;34m,\u001b[0m \u001b[0my\u001b[0m\u001b[0;34m)\u001b[0m\u001b[0;34m\u001b[0m\u001b[0;34m\u001b[0m\u001b[0m\n\u001b[0m\u001b[1;32m     35\u001b[0m \u001b[0;34m\u001b[0m\u001b[0m\n\u001b[1;32m     36\u001b[0m \u001b[0mdebug\u001b[0m \u001b[0;34m=\u001b[0m \u001b[0;32mTrue\u001b[0m\u001b[0;34m\u001b[0m\u001b[0;34m\u001b[0m\u001b[0m\n",
      "\u001b[0;32m/docker/photon/photonai/base/hyperpipe.py\u001b[0m in \u001b[0;36mfit\u001b[0;34m(self, data, targets, **kwargs)\u001b[0m\n\u001b[1;32m   1216\u001b[0m             \u001b[0mlogger\u001b[0m\u001b[0;34m.\u001b[0m\u001b[0merror\u001b[0m\u001b[0;34m(\u001b[0m\u001b[0mtraceback\u001b[0m\u001b[0;34m.\u001b[0m\u001b[0mformat_exc\u001b[0m\u001b[0;34m(\u001b[0m\u001b[0;34m)\u001b[0m\u001b[0;34m)\u001b[0m\u001b[0;34m\u001b[0m\u001b[0;34m\u001b[0m\u001b[0m\n\u001b[1;32m   1217\u001b[0m             \u001b[0mtraceback\u001b[0m\u001b[0;34m.\u001b[0m\u001b[0mprint_exc\u001b[0m\u001b[0;34m(\u001b[0m\u001b[0;34m)\u001b[0m\u001b[0;34m\u001b[0m\u001b[0;34m\u001b[0m\u001b[0m\n\u001b[0;32m-> 1218\u001b[0;31m             \u001b[0;32mraise\u001b[0m \u001b[0me\u001b[0m\u001b[0;34m\u001b[0m\u001b[0;34m\u001b[0m\u001b[0m\n\u001b[0m\u001b[1;32m   1219\u001b[0m         \u001b[0;32mfinally\u001b[0m\u001b[0;34m:\u001b[0m\u001b[0;34m\u001b[0m\u001b[0;34m\u001b[0m\u001b[0m\n\u001b[1;32m   1220\u001b[0m             \u001b[0;32mif\u001b[0m \u001b[0mself\u001b[0m\u001b[0;34m.\u001b[0m\u001b[0mnr_of_processes\u001b[0m \u001b[0;34m>\u001b[0m \u001b[0;36m1\u001b[0m\u001b[0;34m:\u001b[0m\u001b[0;34m\u001b[0m\u001b[0;34m\u001b[0m\u001b[0m\n",
      "\u001b[0;32m/docker/photon/photonai/base/hyperpipe.py\u001b[0m in \u001b[0;36mfit\u001b[0;34m(self, data, targets, **kwargs)\u001b[0m\n\u001b[1;32m   1190\u001b[0m                             \u001b[0;31m# 3. fit\u001b[0m\u001b[0;34m\u001b[0m\u001b[0;34m\u001b[0m\u001b[0;34m\u001b[0m\u001b[0m\n\u001b[1;32m   1191\u001b[0m                             outer_fold_computer.fit(\n\u001b[0;32m-> 1192\u001b[0;31m                                 \u001b[0mself\u001b[0m\u001b[0;34m.\u001b[0m\u001b[0mdata\u001b[0m\u001b[0;34m.\u001b[0m\u001b[0mX\u001b[0m\u001b[0;34m,\u001b[0m \u001b[0mself\u001b[0m\u001b[0;34m.\u001b[0m\u001b[0mdata\u001b[0m\u001b[0;34m.\u001b[0m\u001b[0my\u001b[0m\u001b[0;34m,\u001b[0m \u001b[0;34m**\u001b[0m\u001b[0mself\u001b[0m\u001b[0;34m.\u001b[0m\u001b[0mdata\u001b[0m\u001b[0;34m.\u001b[0m\u001b[0mkwargs\u001b[0m\u001b[0;34m\u001b[0m\u001b[0;34m\u001b[0m\u001b[0m\n\u001b[0m\u001b[1;32m   1193\u001b[0m                             )\n\u001b[1;32m   1194\u001b[0m                             \u001b[0;31m# 4. save outer fold results\u001b[0m\u001b[0;34m\u001b[0m\u001b[0;34m\u001b[0m\u001b[0;34m\u001b[0m\u001b[0m\n",
      "\u001b[0;32m/docker/photon/photonai/processing/outer_folds.py\u001b[0m in \u001b[0;36mfit\u001b[0;34m(self, X, y, **kwargs)\u001b[0m\n\u001b[1;32m    356\u001b[0m                     ].test_indices,\n\u001b[1;32m    357\u001b[0m                     \u001b[0mmetrics\u001b[0m\u001b[0;34m=\u001b[0m\u001b[0mself\u001b[0m\u001b[0;34m.\u001b[0m\u001b[0moptimization_info\u001b[0m\u001b[0;34m.\u001b[0m\u001b[0mmetrics\u001b[0m\u001b[0;34m,\u001b[0m\u001b[0;34m\u001b[0m\u001b[0;34m\u001b[0m\u001b[0m\n\u001b[0;32m--> 358\u001b[0;31m                     \u001b[0;34m**\u001b[0m\u001b[0mself\u001b[0m\u001b[0;34m.\u001b[0m\u001b[0m_test_kwargs\u001b[0m\u001b[0;34m\u001b[0m\u001b[0;34m\u001b[0m\u001b[0m\n\u001b[0m\u001b[1;32m    359\u001b[0m                 )\n\u001b[1;32m    360\u001b[0m \u001b[0;34m\u001b[0m\u001b[0m\n",
      "\u001b[0;32m/docker/photon/photonai/processing/inner_folds.py\u001b[0m in \u001b[0;36mscore\u001b[0;34m(estimator, X, y_true, metrics, indices, calculate_metrics, training, **kwargs)\u001b[0m\n\u001b[1;32m    419\u001b[0m         \u001b[0;32mif\u001b[0m \u001b[0mcalculate_metrics\u001b[0m\u001b[0;34m:\u001b[0m\u001b[0;34m\u001b[0m\u001b[0;34m\u001b[0m\u001b[0m\n\u001b[1;32m    420\u001b[0m             score_metrics = Scorer.calculate_metrics(\n\u001b[0;32m--> 421\u001b[0;31m                 \u001b[0my_true\u001b[0m\u001b[0;34m,\u001b[0m \u001b[0my_pred\u001b[0m\u001b[0;34m,\u001b[0m \u001b[0mnon_default_score_metrics\u001b[0m\u001b[0;34m\u001b[0m\u001b[0;34m\u001b[0m\u001b[0m\n\u001b[0m\u001b[1;32m    422\u001b[0m             )\n\u001b[1;32m    423\u001b[0m \u001b[0;34m\u001b[0m\u001b[0m\n",
      "\u001b[0;32m/docker/photon/photonai/processing/metrics.py\u001b[0m in \u001b[0;36mcalculate_metrics\u001b[0;34m(y_true, y_pred, metrics)\u001b[0m\n\u001b[1;32m    410\u001b[0m         \u001b[0;32mfor\u001b[0m \u001b[0mmetric\u001b[0m \u001b[0;32min\u001b[0m \u001b[0mmetrics\u001b[0m\u001b[0;34m:\u001b[0m\u001b[0;34m\u001b[0m\u001b[0;34m\u001b[0m\u001b[0m\n\u001b[1;32m    411\u001b[0m             \u001b[0;31m# create -> error  if not known error, then calc score value\u001b[0m\u001b[0;34m\u001b[0m\u001b[0;34m\u001b[0m\u001b[0;34m\u001b[0m\u001b[0m\n\u001b[0;32m--> 412\u001b[0;31m             \u001b[0moutput_metrics\u001b[0m\u001b[0;34m[\u001b[0m\u001b[0mmetric\u001b[0m\u001b[0;34m]\u001b[0m \u001b[0;34m=\u001b[0m \u001b[0mScorer\u001b[0m\u001b[0;34m.\u001b[0m\u001b[0mcreate\u001b[0m\u001b[0;34m(\u001b[0m\u001b[0mmetric\u001b[0m\u001b[0;34m)\u001b[0m\u001b[0;34m(\u001b[0m\u001b[0my_true\u001b[0m\u001b[0;34m,\u001b[0m \u001b[0my_pred\u001b[0m\u001b[0;34m)\u001b[0m\u001b[0;34m\u001b[0m\u001b[0;34m\u001b[0m\u001b[0m\n\u001b[0m\u001b[1;32m    413\u001b[0m \u001b[0;34m\u001b[0m\u001b[0m\n\u001b[1;32m    414\u001b[0m         \u001b[0;32mreturn\u001b[0m \u001b[0moutput_metrics\u001b[0m\u001b[0;34m\u001b[0m\u001b[0;34m\u001b[0m\u001b[0m\n",
      "\u001b[0;32m/opt/conda/lib/python3.7/site-packages/sklearn/metrics/_classification.py\u001b[0m in \u001b[0;36mprecision_score\u001b[0;34m(y_true, y_pred, labels, pos_label, average, sample_weight, zero_division)\u001b[0m\n\u001b[1;32m   1666\u001b[0m                                                  \u001b[0mwarn_for\u001b[0m\u001b[0;34m=\u001b[0m\u001b[0;34m(\u001b[0m\u001b[0;34m'precision'\u001b[0m\u001b[0;34m,\u001b[0m\u001b[0;34m)\u001b[0m\u001b[0;34m,\u001b[0m\u001b[0;34m\u001b[0m\u001b[0;34m\u001b[0m\u001b[0m\n\u001b[1;32m   1667\u001b[0m                                                  \u001b[0msample_weight\u001b[0m\u001b[0;34m=\u001b[0m\u001b[0msample_weight\u001b[0m\u001b[0;34m,\u001b[0m\u001b[0;34m\u001b[0m\u001b[0;34m\u001b[0m\u001b[0m\n\u001b[0;32m-> 1668\u001b[0;31m                                                  zero_division=zero_division)\n\u001b[0m\u001b[1;32m   1669\u001b[0m     \u001b[0;32mreturn\u001b[0m \u001b[0mp\u001b[0m\u001b[0;34m\u001b[0m\u001b[0;34m\u001b[0m\u001b[0m\n\u001b[1;32m   1670\u001b[0m \u001b[0;34m\u001b[0m\u001b[0m\n",
      "\u001b[0;32m/opt/conda/lib/python3.7/site-packages/sklearn/metrics/_classification.py\u001b[0m in \u001b[0;36mprecision_recall_fscore_support\u001b[0;34m(y_true, y_pred, beta, labels, pos_label, average, warn_for, sample_weight, zero_division)\u001b[0m\n\u001b[1;32m   1478\u001b[0m         \u001b[0;32mraise\u001b[0m \u001b[0mValueError\u001b[0m\u001b[0;34m(\u001b[0m\u001b[0;34m\"beta should be >=0 in the F-beta score\"\u001b[0m\u001b[0;34m)\u001b[0m\u001b[0;34m\u001b[0m\u001b[0;34m\u001b[0m\u001b[0m\n\u001b[1;32m   1479\u001b[0m     labels = _check_set_wise_labels(y_true, y_pred, average, labels,\n\u001b[0;32m-> 1480\u001b[0;31m                                     pos_label)\n\u001b[0m\u001b[1;32m   1481\u001b[0m \u001b[0;34m\u001b[0m\u001b[0m\n\u001b[1;32m   1482\u001b[0m     \u001b[0;31m# Calculate tp_sum, pred_sum, true_sum ###\u001b[0m\u001b[0;34m\u001b[0m\u001b[0;34m\u001b[0m\u001b[0;34m\u001b[0m\u001b[0m\n",
      "\u001b[0;32m/opt/conda/lib/python3.7/site-packages/sklearn/metrics/_classification.py\u001b[0m in \u001b[0;36m_check_set_wise_labels\u001b[0;34m(y_true, y_pred, average, labels, pos_label)\u001b[0m\n\u001b[1;32m   1310\u001b[0m             raise ValueError(\"Target is %s but average='binary'. Please \"\n\u001b[1;32m   1311\u001b[0m                              \u001b[0;34m\"choose another average setting, one of %r.\"\u001b[0m\u001b[0;34m\u001b[0m\u001b[0;34m\u001b[0m\u001b[0m\n\u001b[0;32m-> 1312\u001b[0;31m                              % (y_type, average_options))\n\u001b[0m\u001b[1;32m   1313\u001b[0m     \u001b[0;32melif\u001b[0m \u001b[0mpos_label\u001b[0m \u001b[0;32mnot\u001b[0m \u001b[0;32min\u001b[0m \u001b[0;34m(\u001b[0m\u001b[0;32mNone\u001b[0m\u001b[0;34m,\u001b[0m \u001b[0;36m1\u001b[0m\u001b[0;34m)\u001b[0m\u001b[0;34m:\u001b[0m\u001b[0;34m\u001b[0m\u001b[0;34m\u001b[0m\u001b[0m\n\u001b[1;32m   1314\u001b[0m         warnings.warn(\"Note that pos_label (set to %r) is ignored when \"\n",
      "\u001b[0;31mValueError\u001b[0m: Target is multiclass but average='binary'. Please choose another average setting, one of [None, 'micro', 'macro', 'weighted']."
     ]
    }
   ],
   "source": [
    "\"\"\"\n",
    "Example script for RF hopt\n",
    "\"\"\"\n",
    "\n",
    "from sklearn.datasets import load_breast_cancer, load_iris\n",
    "from sklearn.model_selection import KFold\n",
    "\n",
    "from photonai.base import Hyperpipe, PipelineElement, Preprocessing, OutputSettings\n",
    "from photonai.optimization import FloatRange, Categorical, IntegerRange\n",
    "\n",
    "# WE USE THE BREAST CANCER SET FROM SKLEARN\n",
    "#X, y = load_breast_cancer(True)\n",
    "X, y = load_iris(True)\n",
    "\n",
    "# DESIGN YOUR PIPELINE\n",
    "settings = OutputSettings(project_folder='./tmp/')\n",
    "my_pipe = Hyperpipe('batching',\n",
    "                    optimizer='sk_opt',\n",
    "#                    optimizer_params={'n_configurations': 25},\n",
    "                    metrics=['accuracy', 'precision', 'recall', 'balanced_accuracy'],\n",
    "                    # forced to 0th element in metrics\n",
    "                    best_config_metric='accuracy',\n",
    "                    outer_cv=KFold(n_splits=2),\n",
    "                    inner_cv=KFold(n_splits=2),\n",
    "                    verbosity=1,\n",
    "                    output_settings=settings)\n",
    "\n",
    "\n",
    "my_pipe += PipelineElement('RandomForestClassifier', hyperparameters={\n",
    "                                                    'n_estimators': IntegerRange(2, 1999),\n",
    "                                                    },random_state=777)\n",
    "\n",
    "# NOW TRAIN YOUR PIPELINE\n",
    "my_pipe.fit(X, y)\n",
    "\n",
    "debug = True\n",
    "\n",
    "\n"
   ]
  },
  {
   "cell_type": "markdown",
   "metadata": {},
   "source": [
    "## Show kmeans"
   ]
  },
  {
   "cell_type": "code",
   "execution_count": null,
   "metadata": {
    "ExecuteTime": {
     "end_time": "2020-05-15T00:13:14.582342Z",
     "start_time": "2020-05-15T00:10:52.463Z"
    }
   },
   "outputs": [],
   "source": [
    "registry.info(\"KMeans\")"
   ]
  },
  {
   "cell_type": "code",
   "execution_count": null,
   "metadata": {
    "ExecuteTime": {
     "end_time": "2020-05-15T00:13:14.584212Z",
     "start_time": "2020-05-15T00:10:52.465Z"
    },
    "pixiedust": {
     "displayParams": {}
    }
   },
   "outputs": [],
   "source": [
    "#import pixiedust\n",
    "#%%pixie_debugger\n",
    "\n",
    "\"\"\"\n",
    "Example script for kmeans hopt\n",
    "\"\"\"\n",
    "\n",
    "X, y = make_blobs(n_samples=300, centers=4,\n",
    "                       cluster_std=0.60, random_state=0)\n",
    "plt.scatter(X[:, 0], X[:, 1], s=50);\n",
    "# DESIGN YOUR PIPELINE\n",
    "settings = OutputSettings(project_folder='./tmp/')\n",
    "\n",
    "my_pipe = Hyperpipe('batching',\n",
    "                    optimizer='sk_opt',\n",
    "#                    optimizer_params={'n_configurations': 25},\n",
    "                    metrics=['ARI', 'MI', 'HCV', 'FM'],\n",
    "                    best_config_metric='ARI',\n",
    "                    outer_cv=KFold(n_splits=5),\n",
    "                    inner_cv=KFold(n_splits=10),\n",
    "                    verbosity=0,\n",
    "                    output_settings=settings)\n",
    "\n",
    "\n",
    "my_pipe += PipelineElement('KMeans', hyperparameters={\n",
    "                                                    'n_clusters': IntegerRange(2, 8),\n",
    "                                                    },random_state=777)\n",
    "\n",
    "# NOW TRAIN YOUR PIPELINE\n",
    "my_pipe.fit(X, y)\n",
    "\n",
    "debug = True\n",
    "\n",
    "\n"
   ]
  },
  {
   "cell_type": "markdown",
   "metadata": {},
   "source": []
  },
  {
   "cell_type": "markdown",
   "metadata": {},
   "source": [
    "## LOCAL SCAPPY"
   ]
  },
  {
   "cell_type": "code",
   "execution_count": null,
   "metadata": {
    "ExecuteTime": {
     "end_time": "2020-05-15T00:13:14.585614Z",
     "start_time": "2020-05-15T00:10:52.467Z"
    }
   },
   "outputs": [],
   "source": [
    "#import pixiedust\n",
    "#%%pixie_debugger\n",
    "\n",
    "\"\"\"\n",
    "Example script for kmeans hopt\n",
    "\"\"\"\n",
    "from sklearn.datasets import make_moons\n",
    "X, y = make_moons(200, noise=.05, random_state=0)\n",
    "plt.scatter(X[:, 0], X[:, 1], s=50);\n",
    "# DESIGN YOUR PIPELINE\n",
    "settings = OutputSettings(project_folder='./tmp/')\n",
    "\n",
    "my_pipe = Hyperpipe('batching',\n",
    "                    optimizer='sk_opt',\n",
    "#                    optimizer_params={'n_configurations': 25},\n",
    "                    metrics=['ARI', 'MI', 'HCV', 'FM'],\n",
    "                    best_config_metric='ARI',\n",
    "                    outer_cv=KFold(n_splits=5),\n",
    "                    inner_cv=KFold(n_splits=10),\n",
    "                    verbosity=0,\n",
    "                    output_settings=settings)\n",
    "\n",
    "\n",
    "my_pipe += PipelineElement('KMeans', hyperparameters={\n",
    "                                                    'n_clusters': IntegerRange(2, 8),\n",
    "                                                    },random_state=777)\n",
    "\n",
    "# NOW TRAIN YOUR PIPELINE\n",
    "my_pipe.fit(X, y)\n",
    "\n",
    "debug = True\n",
    "\n",
    "\n",
    "\n"
   ]
  },
  {
   "cell_type": "code",
   "execution_count": null,
   "metadata": {},
   "outputs": [],
   "source": []
  },
  {
   "cell_type": "code",
   "execution_count": null,
   "metadata": {},
   "outputs": [],
   "source": []
  },
  {
   "cell_type": "code",
   "execution_count": null,
   "metadata": {},
   "outputs": [],
   "source": []
  }
 ],
 "metadata": {
  "kernelspec": {
   "display_name": "Python 3",
   "language": "python",
   "name": "python3"
  },
  "language_info": {
   "codemirror_mode": {
    "name": "ipython",
    "version": 3
   },
   "file_extension": ".py",
   "mimetype": "text/x-python",
   "name": "python",
   "nbconvert_exporter": "python",
   "pygments_lexer": "ipython3",
   "version": "3.7.6"
  },
  "toc": {
   "base_numbering": 1,
   "nav_menu": {},
   "number_sections": true,
   "sideBar": true,
   "skip_h1_title": false,
   "title_cell": "Table of Contents",
   "title_sidebar": "Contents",
   "toc_cell": false,
   "toc_position": {},
   "toc_section_display": true,
   "toc_window_display": true
  }
 },
 "nbformat": 4,
 "nbformat_minor": 4
}
